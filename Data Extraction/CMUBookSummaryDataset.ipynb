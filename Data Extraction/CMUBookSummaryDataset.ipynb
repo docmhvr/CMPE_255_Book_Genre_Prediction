{
 "cells": [
  {
   "cell_type": "markdown",
   "id": "ed1e73d6",
   "metadata": {},
   "source": [
    "# CMU Book Summary Dataset"
   ]
  },
  {
   "cell_type": "markdown",
   "id": "75d7a19c",
   "metadata": {},
   "source": [
    "## Extracting the data"
   ]
  },
  {
   "cell_type": "code",
   "execution_count": 1,
   "id": "04867aa6",
   "metadata": {},
   "outputs": [],
   "source": [
    "# Imports\n",
    "import pandas as pd"
   ]
  },
  {
   "cell_type": "code",
   "execution_count": 2,
   "id": "a5fc4e71",
   "metadata": {},
   "outputs": [],
   "source": [
    "df=pd.read_csv('../Datasets/ds_beforeduplication.csv')"
   ]
  },
  {
   "cell_type": "code",
   "execution_count": 3,
   "id": "1b749338",
   "metadata": {},
   "outputs": [
    {
     "data": {
      "text/html": [
       "<div>\n",
       "<style scoped>\n",
       "    .dataframe tbody tr th:only-of-type {\n",
       "        vertical-align: middle;\n",
       "    }\n",
       "\n",
       "    .dataframe tbody tr th {\n",
       "        vertical-align: top;\n",
       "    }\n",
       "\n",
       "    .dataframe thead th {\n",
       "        text-align: right;\n",
       "    }\n",
       "</style>\n",
       "<table border=\"1\" class=\"dataframe\">\n",
       "  <thead>\n",
       "    <tr style=\"text-align: right;\">\n",
       "      <th></th>\n",
       "      <th>Unnamed: 0</th>\n",
       "      <th>Name</th>\n",
       "      <th>Genres</th>\n",
       "      <th>Summary</th>\n",
       "    </tr>\n",
       "  </thead>\n",
       "  <tbody>\n",
       "    <tr>\n",
       "      <th>0</th>\n",
       "      <td>1</td>\n",
       "      <td>A Clockwork Orange</td>\n",
       "      <td>Science Fiction</td>\n",
       "      <td>Alex, a teenager living in near-future Englan...</td>\n",
       "    </tr>\n",
       "    <tr>\n",
       "      <th>1</th>\n",
       "      <td>6</td>\n",
       "      <td>A Wizard of Earthsea</td>\n",
       "      <td>Children's literature</td>\n",
       "      <td>Ged is a young boy on Gont, one of the larger...</td>\n",
       "    </tr>\n",
       "    <tr>\n",
       "      <th>2</th>\n",
       "      <td>8</td>\n",
       "      <td>Blade Runner 3: Replicant Night</td>\n",
       "      <td>Science Fiction</td>\n",
       "      <td>Living on Mars, Deckard is acting as a consul...</td>\n",
       "    </tr>\n",
       "    <tr>\n",
       "      <th>3</th>\n",
       "      <td>9</td>\n",
       "      <td>Blade Runner 2: The Edge of Human</td>\n",
       "      <td>Science Fiction</td>\n",
       "      <td>Beginning several months after the events in ...</td>\n",
       "    </tr>\n",
       "    <tr>\n",
       "      <th>4</th>\n",
       "      <td>21</td>\n",
       "      <td>Children of Dune</td>\n",
       "      <td>Science Fiction</td>\n",
       "      <td>Nine years after Emperor Paul Muad'dib walked...</td>\n",
       "    </tr>\n",
       "    <tr>\n",
       "      <th>...</th>\n",
       "      <td>...</td>\n",
       "      <td>...</td>\n",
       "      <td>...</td>\n",
       "      <td>...</td>\n",
       "    </tr>\n",
       "    <tr>\n",
       "      <th>8794</th>\n",
       "      <td>16541</td>\n",
       "      <td>Nevermore: The Final Maximum Ride Adventure</td>\n",
       "      <td>Young adult literature</td>\n",
       "      <td>The prologue is Angel's vision of Max's death...</td>\n",
       "    </tr>\n",
       "    <tr>\n",
       "      <th>8795</th>\n",
       "      <td>16542</td>\n",
       "      <td>The Bourne Imperative</td>\n",
       "      <td>Thriller</td>\n",
       "      <td>:For a more detailed background of the main c...</td>\n",
       "    </tr>\n",
       "    <tr>\n",
       "      <th>8796</th>\n",
       "      <td>16551</td>\n",
       "      <td>Remote Control</td>\n",
       "      <td>Thriller</td>\n",
       "      <td>The series follows the character of Nick Ston...</td>\n",
       "    </tr>\n",
       "    <tr>\n",
       "      <th>8797</th>\n",
       "      <td>16555</td>\n",
       "      <td>Transfer of Power</td>\n",
       "      <td>Thriller</td>\n",
       "      <td>The reader first meets Rapp while he is doing...</td>\n",
       "    </tr>\n",
       "    <tr>\n",
       "      <th>8798</th>\n",
       "      <td>16556</td>\n",
       "      <td>Decoded</td>\n",
       "      <td>autobiography</td>\n",
       "      <td>The book follows very rough chronological ord...</td>\n",
       "    </tr>\n",
       "  </tbody>\n",
       "</table>\n",
       "<p>8799 rows × 4 columns</p>\n",
       "</div>"
      ],
      "text/plain": [
       "      Unnamed: 0                                         Name  \\\n",
       "0              1                           A Clockwork Orange   \n",
       "1              6                         A Wizard of Earthsea   \n",
       "2              8              Blade Runner 3: Replicant Night   \n",
       "3              9            Blade Runner 2: The Edge of Human   \n",
       "4             21                             Children of Dune   \n",
       "...          ...                                          ...   \n",
       "8794       16541  Nevermore: The Final Maximum Ride Adventure   \n",
       "8795       16542                        The Bourne Imperative   \n",
       "8796       16551                               Remote Control   \n",
       "8797       16555                            Transfer of Power   \n",
       "8798       16556                                      Decoded   \n",
       "\n",
       "                      Genres  \\\n",
       "0            Science Fiction   \n",
       "1      Children's literature   \n",
       "2            Science Fiction   \n",
       "3            Science Fiction   \n",
       "4            Science Fiction   \n",
       "...                      ...   \n",
       "8794  Young adult literature   \n",
       "8795                Thriller   \n",
       "8796                Thriller   \n",
       "8797                Thriller   \n",
       "8798           autobiography   \n",
       "\n",
       "                                                Summary  \n",
       "0      Alex, a teenager living in near-future Englan...  \n",
       "1      Ged is a young boy on Gont, one of the larger...  \n",
       "2      Living on Mars, Deckard is acting as a consul...  \n",
       "3      Beginning several months after the events in ...  \n",
       "4      Nine years after Emperor Paul Muad'dib walked...  \n",
       "...                                                 ...  \n",
       "8794   The prologue is Angel's vision of Max's death...  \n",
       "8795   :For a more detailed background of the main c...  \n",
       "8796   The series follows the character of Nick Ston...  \n",
       "8797   The reader first meets Rapp while he is doing...  \n",
       "8798   The book follows very rough chronological ord...  \n",
       "\n",
       "[8799 rows x 4 columns]"
      ]
     },
     "execution_count": 3,
     "metadata": {},
     "output_type": "execute_result"
    }
   ],
   "source": [
    "df"
   ]
  },
  {
   "cell_type": "code",
   "execution_count": 4,
   "id": "73bb57dd",
   "metadata": {},
   "outputs": [
    {
     "data": {
      "text/plain": [
       "fiction                   1615\n",
       "Children's literature     1152\n",
       "Science Fiction            999\n",
       "Novel                      925\n",
       "Mystery                    734\n",
       "historical                 727\n",
       "Fantasy                    624\n",
       "Thriller                   568\n",
       "Young adult literature     321\n",
       "comedy                     174\n",
       "autobiography              170\n",
       "Non-fiction                166\n",
       "Spy fiction                112\n",
       "Horror                      88\n",
       "Romance novel               68\n",
       "Adventure novel             60\n",
       "Picture book                49\n",
       "Memoir                      43\n",
       "Biography                   39\n",
       "Techno-thriller             37\n",
       "Short story                 36\n",
       "Literary fiction            27\n",
       "Philosophy                  23\n",
       "Urban fantasy               22\n",
       "Sword and sorcery           20\n",
       "Name: Genres, dtype: int64"
      ]
     },
     "execution_count": 4,
     "metadata": {},
     "output_type": "execute_result"
    }
   ],
   "source": [
    "df.Genres.value_counts()"
   ]
  },
  {
   "cell_type": "markdown",
   "id": "b5558086",
   "metadata": {},
   "source": [
    "## Data Analysis"
   ]
  },
  {
   "cell_type": "code",
   "execution_count": 5,
   "id": "50800129",
   "metadata": {},
   "outputs": [
    {
     "data": {
      "image/png": "[encoded data removed]",
      "text/plain": [
       "<Figure size 1200x1500 with 1 Axes>"
      ]
     },
     "metadata": {},
     "output_type": "display_data"
    }
   ],
   "source": [
    "import nltk as nltk\n",
    "import seaborn as sns\n",
    "import matplotlib.pyplot as plt\n",
    "all_genres=df.Genres.value_counts()\n",
    "all_genres = nltk.FreqDist(df.Genres) \n",
    "all_genres_df = pd.DataFrame({'Genre': list(all_genres.keys()), \n",
    "                              'Count': list(all_genres.values())})\n",
    "g = all_genres_df.nlargest(columns=\"Count\", n = 50) \n",
    "plt.figure(figsize=(12,15)) \n",
    "ax = sns.barplot(data=g, x= \"Count\", y = \"Genre\") \n",
    "ax.set(ylabel = 'Genre') \n",
    "plt.show()"
   ]
  },
  {
   "cell_type": "markdown",
   "id": "35d55ab7",
   "metadata": {},
   "source": [
    "## Conclusions (As of now)\n",
    "\n",
    "- Uneven distribution of data among different genres available in dataset\n",
    "- Few genres have high volume of records\n",
    "- Rest of the genres have very less data"
   ]
  },
  {
   "cell_type": "markdown",
   "id": "d96e7c35",
   "metadata": {},
   "source": [
    "## Performing Data Augmentation"
   ]
  },
  {
   "cell_type": "code",
   "execution_count": 23,
   "id": "3ce8db25",
   "metadata": {},
   "outputs": [],
   "source": [
    "import random\n",
    "from random import shuffle\n",
    "import nltk\n",
    "## uncomment code below to download NLTK wordnet in your python\n",
    "# nltk.download(\"stopwords\")\n",
    "from nltk.corpus import stopwords\n",
    "stop_words = set(stopwords.words('english'))\n",
    "## uncomment code below to download NLTK wordnet in your python\n",
    "# nltk.download(\"wordnet\")\n",
    "# nltk.download('omw-1.4')\n",
    "from nltk.corpus import wordnet"
   ]
  },
  {
   "cell_type": "code",
   "execution_count": 24,
   "id": "7bfa5b2a",
   "metadata": {},
   "outputs": [],
   "source": [
    "def synonym_replacement(words, n):\n",
    "    new_words = words.copy()\n",
    "    random_word_list = list(set([word for word in words if word not in stop_words]))\n",
    "    random.shuffle(random_word_list)\n",
    "    num_replaced = 0\n",
    "    for random_word in random_word_list:\n",
    "        synonyms = get_synonyms(random_word)\n",
    "        if len(synonyms) >= 1:\n",
    "            synonym = random.choice(list(synonyms))\n",
    "            new_words = [synonym if word == random_word else word for word in new_words]\n",
    "            #print(\"replaced\", random_word, \"with\", synonym)\n",
    "            num_replaced += 1\n",
    "        if num_replaced >= n: #only replace up to n words\n",
    "            break\n",
    "\n",
    "    #this is stupid but we need it, trust me\n",
    "    sentence = ' '.join(new_words)\n",
    "    new_words = sentence.split(' ')\n",
    "\n",
    "    return new_words"
   ]
  },
  {
   "cell_type": "code",
   "execution_count": 25,
   "id": "d37a5a9b",
   "metadata": {},
   "outputs": [],
   "source": [
    "def get_synonyms(word):\n",
    "    synonyms = set()\n",
    "    for syn in wordnet.synsets(word): \n",
    "        for l in syn.lemmas(): \n",
    "            synonym = l.name().replace(\"_\", \" \").replace(\"-\", \" \").lower()\n",
    "            synonym = \"\".join([char for char in synonym if char in ' qwertyuiopasdfghjklzxcvbnm'])\n",
    "            synonyms.add(synonym) \n",
    "    if word in synonyms:\n",
    "        synonyms.remove(word)\n",
    "    return list(synonyms)"
   ]
  },
  {
   "cell_type": "code",
   "execution_count": 33,
   "id": "0d531154",
   "metadata": {},
   "outputs": [
    {
     "data": {
      "text/plain": [
       "['hello', 'jolly', 'despicable', 'befog', 'both', 'how']"
      ]
     },
     "execution_count": 33,
     "metadata": {},
     "output_type": "execute_result"
    }
   ],
   "source": [
    "synonym_replacement(['hello','pretty','ugly','cloud','both','how'],3)"
   ]
  },
  {
   "cell_type": "code",
   "execution_count": null,
   "id": "f7957748",
   "metadata": {},
   "outputs": [],
   "source": []
  }
 ],
 "metadata": {
  "kernelspec": {
   "display_name": "Python 3 (ipykernel)",
   "language": "python",
   "name": "python3"
  },
  "language_info": {
   "codemirror_mode": {
    "name": "ipython",
    "version": 3
   },
   "file_extension": ".py",
   "mimetype": "text/x-python",
   "name": "python",
   "nbconvert_exporter": "python",
   "pygments_lexer": "ipython3",
   "version": "3.10.8"
  }
 },
 "nbformat": 4,
 "nbformat_minor": 5
}
