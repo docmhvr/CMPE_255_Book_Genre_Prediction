{
 "cells": [
  {
   "cell_type": "markdown",
   "id": "a48239bb",
   "metadata": {},
   "source": [
    "# Blurb Genre Collection"
   ]
  },
  {
   "cell_type": "markdown",
   "id": "b0bcb5e1",
   "metadata": {},
   "source": [
    "## Data Parsing and Extraction"
   ]
  },
  {
   "cell_type": "code",
   "execution_count": 1,
   "id": "7634b70c",
   "metadata": {},
   "outputs": [],
   "source": [
    "#necessary imports\n",
    "import pandas as pd\n",
    "from xml.etree import ElementTree"
   ]
  },
  {
   "cell_type": "code",
   "execution_count": 2,
   "id": "55f496a7",
   "metadata": {},
   "outputs": [],
   "source": [
    "#Making dataset list to feed it into pandas read csv function\n",
    "dataset=[]"
   ]
  },
  {
   "cell_type": "code",
   "execution_count": 3,
   "id": "e4bfb9f9",
   "metadata": {},
   "outputs": [],
   "source": [
    "#Parsing training file\n",
    "tree = ElementTree.parse('../Datasets/train.xml')\n",
    "root = tree.getroot()\n",
    "\n",
    "for book in root.findall('book'):\n",
    "    i=0\n",
    "    for metadata in book.find('metadata'):\n",
    "        if(i==0):\n",
    "            x=metadata\n",
    "        if(i==1):\n",
    "            author=metadata.text\n",
    "        if(i==2):\n",
    "            published=metadata.text\n",
    "        if(i==3):\n",
    "            pagenum=metadata.text\n",
    "        if(i==4):\n",
    "            break\n",
    "        i+=1\n",
    "        \n",
    "    \n",
    "    \n",
    "    s=''    \n",
    "    if(x.find('d1')!=None):\n",
    "        s=x.find('d1').text\n",
    "    else:\n",
    "        s=x.find('d0').text\n",
    "            \n",
    "    \n",
    "    dataset.append([book.find('title').text,s,book.find('body').text,author,published,pagenum])"
   ]
  },
  {
   "cell_type": "code",
   "execution_count": 5,
   "id": "b2241ab3",
   "metadata": {},
   "outputs": [],
   "source": [
    "#Parsing testing file\n",
    "tree = ElementTree.parse('../Datasets/test.xml')\n",
    "root = tree.getroot()\n",
    "for book in root.findall('book'):\n",
    "    i=0\n",
    "    for metadata in book.find('metadata'):\n",
    "        if(i==0):\n",
    "            x=metadata\n",
    "        if(i==1):\n",
    "            author=metadata.text\n",
    "        if(i==2):\n",
    "            published=metadata.text\n",
    "        if(i==3):\n",
    "            pagenum=metadata.text\n",
    "        if(i==4):\n",
    "            break\n",
    "        i+=1\n",
    "        \n",
    "    \n",
    "    \n",
    "    s=''    \n",
    "    if(x.find('d1')!=None):\n",
    "        s=x.find('d1').text\n",
    "    else:\n",
    "        s=x.find('d0').text\n",
    "            \n",
    "    \n",
    "    dataset.append([book.find('title').text,s,book.find('body').text,author,published,pagenum])"
   ]
  },
  {
   "cell_type": "code",
   "execution_count": 6,
   "id": "c9032a78",
   "metadata": {},
   "outputs": [],
   "source": [
    "df=pd.DataFrame(dataset,columns=['Name','Genres','Summary',\n",
    "                                 'Author','Published','PageNum'])"
   ]
  },
  {
   "cell_type": "code",
   "execution_count": 7,
   "id": "281fb0af",
   "metadata": {
    "scrolled": true
   },
   "outputs": [
    {
     "data": {
      "text/html": [
       "<div>\n",
       "<style scoped>\n",
       "    .dataframe tbody tr th:only-of-type {\n",
       "        vertical-align: middle;\n",
       "    }\n",
       "\n",
       "    .dataframe tbody tr th {\n",
       "        vertical-align: top;\n",
       "    }\n",
       "\n",
       "    .dataframe thead th {\n",
       "        text-align: right;\n",
       "    }\n",
       "</style>\n",
       "<table border=\"1\" class=\"dataframe\">\n",
       "  <thead>\n",
       "    <tr style=\"text-align: right;\">\n",
       "      <th></th>\n",
       "      <th>Name</th>\n",
       "      <th>Genres</th>\n",
       "      <th>Summary</th>\n",
       "      <th>Author</th>\n",
       "      <th>Published</th>\n",
       "      <th>PageNum</th>\n",
       "    </tr>\n",
       "  </thead>\n",
       "  <tbody>\n",
       "    <tr>\n",
       "      <th>0</th>\n",
       "      <td>The New York Times Daily Crossword Puzzles: Th...</td>\n",
       "      <td>Games</td>\n",
       "      <td>Monday’s Crosswords Do with EaseTuesday’s Cros...</td>\n",
       "      <td>New York Times</td>\n",
       "      <td>Dec 28, 1996</td>\n",
       "      <td>224 Pages</td>\n",
       "    </tr>\n",
       "    <tr>\n",
       "      <th>1</th>\n",
       "      <td>Creatures of the Night (Second Edition)</td>\n",
       "      <td>Graphic Novels and Manga</td>\n",
       "      <td>Two of literary comics modern masters present ...</td>\n",
       "      <td>Neil Gaiman</td>\n",
       "      <td>Nov 29, 2016</td>\n",
       "      <td>48 Pages</td>\n",
       "    </tr>\n",
       "    <tr>\n",
       "      <th>2</th>\n",
       "      <td>Cornelia and the Audacious Escapades of the So...</td>\n",
       "      <td>Children’s Middle Grade Books</td>\n",
       "      <td>Eleven-year-old Cornelia is the daughter of tw...</td>\n",
       "      <td>Lesley M. M. Blume</td>\n",
       "      <td>Jan 08, 2008</td>\n",
       "      <td>272 Pages</td>\n",
       "    </tr>\n",
       "    <tr>\n",
       "      <th>3</th>\n",
       "      <td>The Alchemist's Daughter</td>\n",
       "      <td>Historical Fiction</td>\n",
       "      <td>During the English Age of Reason, a woman cloi...</td>\n",
       "      <td>Katharine McMahon</td>\n",
       "      <td>Oct 24, 2006</td>\n",
       "      <td>352 Pages</td>\n",
       "    </tr>\n",
       "    <tr>\n",
       "      <th>4</th>\n",
       "      <td>Dangerous Boy</td>\n",
       "      <td>Teen and Young Adult Mystery and Suspense</td>\n",
       "      <td>A modern-day retelling of The Strange Case of ...</td>\n",
       "      <td>Mandy Hubbard</td>\n",
       "      <td>Aug 30, 2012</td>\n",
       "      <td>272 Pages</td>\n",
       "    </tr>\n",
       "    <tr>\n",
       "      <th>...</th>\n",
       "      <td>...</td>\n",
       "      <td>...</td>\n",
       "      <td>...</td>\n",
       "      <td>...</td>\n",
       "      <td>...</td>\n",
       "      <td>...</td>\n",
       "    </tr>\n",
       "    <tr>\n",
       "      <th>77104</th>\n",
       "      <td>Cathedral of the Sea</td>\n",
       "      <td>Romance</td>\n",
       "      <td>An unforgettable fresco of a golden age in fou...</td>\n",
       "      <td>Ildefonso Falcones</td>\n",
       "      <td>Apr 07, 2009</td>\n",
       "      <td>624 Pages</td>\n",
       "    </tr>\n",
       "    <tr>\n",
       "      <th>77105</th>\n",
       "      <td>Understanding the Messages of Your Body</td>\n",
       "      <td>Health and Fitness</td>\n",
       "      <td>Fears, anxieties, traumas, and physical and em...</td>\n",
       "      <td>Jean-Pierre Barral, D.O.</td>\n",
       "      <td>Nov 13, 2007</td>\n",
       "      <td>256 Pages</td>\n",
       "    </tr>\n",
       "    <tr>\n",
       "      <th>77106</th>\n",
       "      <td>Knockout</td>\n",
       "      <td>Health and Fitness</td>\n",
       "      <td>In Knockout, Suzanne Somers interviews doctors...</td>\n",
       "      <td>Suzanne Somers</td>\n",
       "      <td>Oct 05, 2010</td>\n",
       "      <td>368 Pages</td>\n",
       "    </tr>\n",
       "    <tr>\n",
       "      <th>77107</th>\n",
       "      <td>The End of the Suburbs</td>\n",
       "      <td>Politics</td>\n",
       "      <td>“The government in the past created one Americ...</td>\n",
       "      <td>Leigh Gallagher</td>\n",
       "      <td>Jun 24, 2014</td>\n",
       "      <td>272 Pages</td>\n",
       "    </tr>\n",
       "    <tr>\n",
       "      <th>77108</th>\n",
       "      <td>First Aid Fast for Babies and Children</td>\n",
       "      <td>Parenting</td>\n",
       "      <td>An indispensable guide for all parents and car...</td>\n",
       "      <td>DK</td>\n",
       "      <td>Jun 20, 2017</td>\n",
       "      <td>128 Pages</td>\n",
       "    </tr>\n",
       "  </tbody>\n",
       "</table>\n",
       "<p>77109 rows × 6 columns</p>\n",
       "</div>"
      ],
      "text/plain": [
       "                                                    Name  \\\n",
       "0      The New York Times Daily Crossword Puzzles: Th...   \n",
       "1                Creatures of the Night (Second Edition)   \n",
       "2      Cornelia and the Audacious Escapades of the So...   \n",
       "3                               The Alchemist's Daughter   \n",
       "4                                          Dangerous Boy   \n",
       "...                                                  ...   \n",
       "77104                               Cathedral of the Sea   \n",
       "77105            Understanding the Messages of Your Body   \n",
       "77106                                           Knockout   \n",
       "77107                             The End of the Suburbs   \n",
       "77108             First Aid Fast for Babies and Children   \n",
       "\n",
       "                                          Genres  \\\n",
       "0                                          Games   \n",
       "1                       Graphic Novels and Manga   \n",
       "2                  Children’s Middle Grade Books   \n",
       "3                             Historical Fiction   \n",
       "4      Teen and Young Adult Mystery and Suspense   \n",
       "...                                          ...   \n",
       "77104                                    Romance   \n",
       "77105                         Health and Fitness   \n",
       "77106                         Health and Fitness   \n",
       "77107                                   Politics   \n",
       "77108                                  Parenting   \n",
       "\n",
       "                                                 Summary  \\\n",
       "0      Monday’s Crosswords Do with EaseTuesday’s Cros...   \n",
       "1      Two of literary comics modern masters present ...   \n",
       "2      Eleven-year-old Cornelia is the daughter of tw...   \n",
       "3      During the English Age of Reason, a woman cloi...   \n",
       "4      A modern-day retelling of The Strange Case of ...   \n",
       "...                                                  ...   \n",
       "77104  An unforgettable fresco of a golden age in fou...   \n",
       "77105  Fears, anxieties, traumas, and physical and em...   \n",
       "77106  In Knockout, Suzanne Somers interviews doctors...   \n",
       "77107  “The government in the past created one Americ...   \n",
       "77108  An indispensable guide for all parents and car...   \n",
       "\n",
       "                         Author      Published     PageNum  \n",
       "0                New York Times  Dec 28, 1996    224 Pages  \n",
       "1                   Neil Gaiman  Nov 29, 2016     48 Pages  \n",
       "2            Lesley M. M. Blume  Jan 08, 2008    272 Pages  \n",
       "3             Katharine McMahon  Oct 24, 2006    352 Pages  \n",
       "4                 Mandy Hubbard  Aug 30, 2012    272 Pages  \n",
       "...                         ...            ...         ...  \n",
       "77104        Ildefonso Falcones  Apr 07, 2009    624 Pages  \n",
       "77105  Jean-Pierre Barral, D.O.  Nov 13, 2007    256 Pages  \n",
       "77106            Suzanne Somers  Oct 05, 2010    368 Pages  \n",
       "77107           Leigh Gallagher  Jun 24, 2014    272 Pages  \n",
       "77108                        DK  Jun 20, 2017    128 Pages  \n",
       "\n",
       "[77109 rows x 6 columns]"
      ]
     },
     "execution_count": 7,
     "metadata": {},
     "output_type": "execute_result"
    }
   ],
   "source": [
    "df"
   ]
  },
  {
   "cell_type": "code",
   "execution_count": 8,
   "id": "fcc8c2dc",
   "metadata": {},
   "outputs": [
    {
     "data": {
      "text/plain": [
       "Children’s Books                             9555\n",
       "Children’s Middle Grade Books                6416\n",
       "Literary Fiction                             6101\n",
       "Mystery and Suspense                         6028\n",
       "Romance                                      5140\n",
       "Biography and Memoir                         4390\n",
       "Religion and Philosophy                      4245\n",
       "Graphic Novels and Manga                     3694\n",
       "Cooking                                      2468\n",
       "Politics                                     2146\n",
       "Arts and Entertainment                       1927\n",
       "Fantasy                                      1647\n",
       "Teen and Young Adult Fiction                 1506\n",
       "Self-Improvement                             1488\n",
       "Health and Fitness                           1485\n",
       "History                                      1337\n",
       "Popular Science                              1302\n",
       "Science Fiction                              1272\n",
       "Crafts, Home and Garden                      1128\n",
       "Reference                                    1072\n",
       "Parenting                                    1072\n",
       "Western Fiction                              1034\n",
       "Psychology                                   1008\n",
       "Nonfiction                                    836\n",
       "Fiction                                       798\n",
       "Travel                                        635\n",
       "Women’s Fiction                               594\n",
       "Teen and Young Adult Fantasy Fiction          585\n",
       "Business                                      578\n",
       "Literary Criticism                            528\n",
       "Step Into Reading                             521\n",
       "Teen and Young Adult Mystery and Suspense     444\n",
       "Poetry                                        431\n",
       "Literary Collections                          423\n",
       "Historical Fiction                            388\n",
       "Humor                                         374\n",
       "Nonfiction Classics                           370\n",
       "Sports                                        341\n",
       "Fiction Classics                              302\n",
       "Games                                         239\n",
       "Teen and Young Adult Historical Fiction       234\n",
       "Teen and Young Adult Nonfiction               231\n",
       "Military Fiction                              158\n",
       "Classics                                      150\n",
       "Paranormal Fiction                            141\n",
       "Pets                                          124\n",
       "Gothic and Horror                              90\n",
       "Spiritual Fiction                              85\n",
       "Teen and Young Adult Action and Adventure      48\n",
       "Name: Genres, dtype: int64"
      ]
     },
     "execution_count": 8,
     "metadata": {},
     "output_type": "execute_result"
    }
   ],
   "source": [
    "df.Genres.value_counts()"
   ]
  },
  {
   "cell_type": "code",
   "execution_count": 9,
   "id": "31c284b1",
   "metadata": {},
   "outputs": [],
   "source": [
    "import nltk\n",
    "from nltk.corpus import stopwords\n",
    "from nltk.stem.snowball import SnowballStemmer\n",
    "import re\n",
    "import sys\n",
    "import warnings\n",
    "data = df\n",
    "if not sys.warnoptions:\n",
    "    warnings.simplefilter(\"ignore\")\n",
    "def cleanHtml(sentence):\n",
    "    cleanr = re.compile('<.*?>')\n",
    "    cleantext = re.sub(cleanr, ' ', str(sentence))\n",
    "    return cleantext\n",
    "data['Summary'] = data['Summary'].str.lower()\n",
    "data['Summary'] = data['Summary'].apply(cleanHtml)"
   ]
  },
  {
   "cell_type": "code",
   "execution_count": 11,
   "id": "6266e6ec",
   "metadata": {},
   "outputs": [
    {
     "data": {
      "text/html": [
       "<div>\n",
       "<style scoped>\n",
       "    .dataframe tbody tr th:only-of-type {\n",
       "        vertical-align: middle;\n",
       "    }\n",
       "\n",
       "    .dataframe tbody tr th {\n",
       "        vertical-align: top;\n",
       "    }\n",
       "\n",
       "    .dataframe thead th {\n",
       "        text-align: right;\n",
       "    }\n",
       "</style>\n",
       "<table border=\"1\" class=\"dataframe\">\n",
       "  <thead>\n",
       "    <tr style=\"text-align: right;\">\n",
       "      <th></th>\n",
       "      <th>Name</th>\n",
       "      <th>Genres</th>\n",
       "      <th>Summary</th>\n",
       "      <th>Author</th>\n",
       "      <th>Published</th>\n",
       "      <th>PageNum</th>\n",
       "    </tr>\n",
       "  </thead>\n",
       "  <tbody>\n",
       "  </tbody>\n",
       "</table>\n",
       "</div>"
      ],
      "text/plain": [
       "Empty DataFrame\n",
       "Columns: [Name, Genres, Summary, Author, Published, PageNum]\n",
       "Index: []"
      ]
     },
     "execution_count": 11,
     "metadata": {},
     "output_type": "execute_result"
    }
   ],
   "source": [
    "df.loc[df['Summary'].str.contains(\"<\", case=False)]\n",
    "# output is empty dataframe. Hence, Summary is clean of HTML content."
   ]
  },
  {
   "cell_type": "code",
   "execution_count": 12,
   "id": "f3cd4abd",
   "metadata": {},
   "outputs": [
    {
     "data": {
      "text/plain": [
       "0        monday’s crosswords do with easetuesday’s cros...\n",
       "1        two of literary comics modern masters present ...\n",
       "2        eleven-year-old cornelia is the daughter of tw...\n",
       "3        during the english age of reason, a woman cloi...\n",
       "4        a modern-day retelling of the strange case of ...\n",
       "                               ...                        \n",
       "77104    an unforgettable fresco of a golden age in fou...\n",
       "77105    fears, anxieties, traumas, and physical and em...\n",
       "77106    in knockout, suzanne somers interviews doctors...\n",
       "77107    “the government in the past created one americ...\n",
       "77108    an indispensable guide for all parents and car...\n",
       "Name: Summary, Length: 77109, dtype: object"
      ]
     },
     "execution_count": 12,
     "metadata": {},
     "output_type": "execute_result"
    }
   ],
   "source": [
    "df[\"Summary\"]"
   ]
  },
  {
   "cell_type": "code",
   "execution_count": 13,
   "id": "c51edbc0",
   "metadata": {},
   "outputs": [],
   "source": [
    "def cleanPunc(sentence): #function to clean the word of any punctuation or special characters\n",
    "    cleaned = re.sub(r'[?|!|\\'|\"|#]',r'',sentence)\n",
    "    cleaned = re.sub(r'[.|,|)|(|\\|/]',r' ',cleaned)\n",
    "    cleaned = cleaned.strip()\n",
    "    cleaned = cleaned.replace(\"\\n\",\" \")\n",
    "    return cleaned"
   ]
  },
  {
   "cell_type": "code",
   "execution_count": 14,
   "id": "acce8b15",
   "metadata": {},
   "outputs": [],
   "source": [
    "data['Summary'] = data['Summary'].apply(cleanPunc)"
   ]
  },
  {
   "cell_type": "code",
   "execution_count": 15,
   "id": "c2c2c87a",
   "metadata": {},
   "outputs": [
    {
     "data": {
      "text/html": [
       "<div>\n",
       "<style scoped>\n",
       "    .dataframe tbody tr th:only-of-type {\n",
       "        vertical-align: middle;\n",
       "    }\n",
       "\n",
       "    .dataframe tbody tr th {\n",
       "        vertical-align: top;\n",
       "    }\n",
       "\n",
       "    .dataframe thead th {\n",
       "        text-align: right;\n",
       "    }\n",
       "</style>\n",
       "<table border=\"1\" class=\"dataframe\">\n",
       "  <thead>\n",
       "    <tr style=\"text-align: right;\">\n",
       "      <th></th>\n",
       "      <th>Name</th>\n",
       "      <th>Genres</th>\n",
       "      <th>Summary</th>\n",
       "      <th>Author</th>\n",
       "      <th>Published</th>\n",
       "      <th>PageNum</th>\n",
       "    </tr>\n",
       "  </thead>\n",
       "  <tbody>\n",
       "  </tbody>\n",
       "</table>\n",
       "</div>"
      ],
      "text/plain": [
       "Empty DataFrame\n",
       "Columns: [Name, Genres, Summary, Author, Published, PageNum]\n",
       "Index: []"
      ]
     },
     "execution_count": 15,
     "metadata": {},
     "output_type": "execute_result"
    }
   ],
   "source": [
    "df.loc[df['Summary'].str.contains(\",\", case=False)]\n",
    "# output is empty dataframe. Hence, Summary is clean of punctuations."
   ]
  },
  {
   "cell_type": "code",
   "execution_count": 16,
   "id": "74cfd548",
   "metadata": {},
   "outputs": [
    {
     "data": {
      "text/plain": [
       "0        monday’s crosswords do with easetuesday’s cros...\n",
       "1        two of literary comics modern masters present ...\n",
       "2        eleven-year-old cornelia is the daughter of tw...\n",
       "3        during the english age of reason  a woman cloi...\n",
       "4        a modern-day retelling of the strange case of ...\n",
       "                               ...                        \n",
       "77104    an unforgettable fresco of a golden age in fou...\n",
       "77105    fears  anxieties  traumas  and physical and em...\n",
       "77106    in knockout  suzanne somers interviews doctors...\n",
       "77107    “the government in the past created one americ...\n",
       "77108    an indispensable guide for all parents and car...\n",
       "Name: Summary, Length: 77109, dtype: object"
      ]
     },
     "execution_count": 16,
     "metadata": {},
     "output_type": "execute_result"
    }
   ],
   "source": [
    "df[\"Summary\"]"
   ]
  },
  {
   "cell_type": "code",
   "execution_count": 17,
   "id": "9187ca03",
   "metadata": {},
   "outputs": [],
   "source": [
    "def keepAlpha(sentence):\n",
    "    alpha_sent = \"\"\n",
    "    for word in sentence.split():\n",
    "        alpha_word = re.sub('[^a-z A-Z]+', ' ', word)\n",
    "        alpha_sent += alpha_word\n",
    "        alpha_sent += \" \"\n",
    "    alpha_sent = alpha_sent.strip()\n",
    "    return alpha_sent"
   ]
  },
  {
   "cell_type": "code",
   "execution_count": 18,
   "id": "066b8059",
   "metadata": {},
   "outputs": [],
   "source": [
    "data['Summary'] = data['Summary'].apply(keepAlpha)"
   ]
  },
  {
   "cell_type": "code",
   "execution_count": 25,
   "id": "942b8d8b",
   "metadata": {},
   "outputs": [
    {
     "data": {
      "text/html": [
       "<div>\n",
       "<style scoped>\n",
       "    .dataframe tbody tr th:only-of-type {\n",
       "        vertical-align: middle;\n",
       "    }\n",
       "\n",
       "    .dataframe tbody tr th {\n",
       "        vertical-align: top;\n",
       "    }\n",
       "\n",
       "    .dataframe thead th {\n",
       "        text-align: right;\n",
       "    }\n",
       "</style>\n",
       "<table border=\"1\" class=\"dataframe\">\n",
       "  <thead>\n",
       "    <tr style=\"text-align: right;\">\n",
       "      <th></th>\n",
       "      <th>Name</th>\n",
       "      <th>Genres</th>\n",
       "      <th>Summary</th>\n",
       "      <th>Author</th>\n",
       "      <th>Published</th>\n",
       "      <th>PageNum</th>\n",
       "    </tr>\n",
       "  </thead>\n",
       "  <tbody>\n",
       "  </tbody>\n",
       "</table>\n",
       "</div>"
      ],
      "text/plain": [
       "Empty DataFrame\n",
       "Columns: [Name, Genres, Summary, Author, Published, PageNum]\n",
       "Index: []"
      ]
     },
     "execution_count": 25,
     "metadata": {},
     "output_type": "execute_result"
    }
   ],
   "source": [
    "df.loc[df['Summary'].str.contains(\"_\", case=False)]\n",
    "# output is empty dataframe. Hence, Summary is clean of any special characters such as [, \\, ], ^, _, ` and -.\n",
    "# Hence, summary will only contains alphabetical letters."
   ]
  },
  {
   "cell_type": "code",
   "execution_count": 26,
   "id": "266377ff",
   "metadata": {},
   "outputs": [
    {
     "data": {
      "text/plain": [
       "0        monday s crosswords do with easetuesday s cros...\n",
       "1        two of literary comics modern masters present ...\n",
       "2        eleven year old cornelia is the daughter of tw...\n",
       "3        during the english age of reason a woman clois...\n",
       "4        a modern day retelling of the strange case of ...\n",
       "                               ...                        \n",
       "77104    an unforgettable fresco of a golden age in fou...\n",
       "77105    fears anxieties traumas and physical and emoti...\n",
       "77106    in knockout suzanne somers interviews doctors ...\n",
       "77107    the government in the past created one america...\n",
       "77108    an indispensable guide for all parents and car...\n",
       "Name: Summary, Length: 77109, dtype: object"
      ]
     },
     "execution_count": 26,
     "metadata": {},
     "output_type": "execute_result"
    }
   ],
   "source": [
    "df[\"Summary\"]"
   ]
  },
  {
   "cell_type": "code",
   "execution_count": null,
   "id": "22aff37f",
   "metadata": {},
   "outputs": [],
   "source": []
  }
 ],
 "metadata": {
  "kernelspec": {
   "display_name": "Python 3 (ipykernel)",
   "language": "python",
   "name": "python3"
  },
  "language_info": {
   "codemirror_mode": {
    "name": "ipython",
    "version": 3
   },
   "file_extension": ".py",
   "mimetype": "text/x-python",
   "name": "python",
   "nbconvert_exporter": "python",
   "pygments_lexer": "ipython3",
   "version": "3.10.8"
  }
 },
 "nbformat": 4,
 "nbformat_minor": 5
}
