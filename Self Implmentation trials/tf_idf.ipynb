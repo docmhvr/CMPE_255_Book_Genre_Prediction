{
 "cells": [
  {
   "cell_type": "code",
   "execution_count": 6,
   "metadata": {
    "id": "ZW2BTg-FqO8X"
   },
   "outputs": [],
   "source": [
    "import nltk\n",
    "#nltk.download(\"punkt\")\n",
    "#nltk.download('averaged_perceptron_tagger')\n",
    "#nltk.download('stopwords')"
   ]
  },
  {
   "cell_type": "code",
   "execution_count": null,
   "metadata": {},
   "outputs": [],
   "source": [
    "import re\n",
    "import heapq\n",
    "import math\n",
    "import numpy as np\n",
    "from nltk.corpus import stopwords\n",
    "'''\n",
    "def generate_words(dataset):\n",
    "\twords = []\n",
    "\tfor data in dataset:\n",
    "\t\tfor word in nltk.word_tokenize(data):\n",
    "\t\t\twords.append(word)\n",
    "\treturn words\n",
    "'''\n",
    "def clean_data(dataset):\n",
    "\tfor i in range(len(dataset)):\n",
    "\t    dataset[i] = dataset[i].lower()\n",
    "\t    dataset[i] = re.sub(r'\\W', ' ', dataset[i])\n",
    "\t    dataset[i] = re.sub(r'\\s+', ' ', dataset[i])\n",
    "\t    dataset[i] = re.sub('^\\s+', '', dataset[i])\n",
    "\t    dataset[i] = re.sub(r'\\s$', '', dataset[i])\n",
    "\treturn dataset\n",
    "\n",
    "\n",
    "def create_word_count(words):\n",
    "\tword_count = {}\n",
    "\tfor word in words:\n",
    "\t\tif word in word_count.keys():\n",
    "\t\t\tword_count[word] += 1\n",
    "\t\telse:\n",
    "\t\t\tword_count[word] = 1\n",
    "\treturn word_count"
   ]
  }
 ],
 "metadata": {
  "colab": {
   "provenance": []
  },
  "kernelspec": {
   "display_name": "Python 3 (ipykernel)",
   "language": "python",
   "name": "python3"
  },
  "language_info": {
   "codemirror_mode": {
    "name": "ipython",
    "version": 3
   },
   "file_extension": ".py",
   "mimetype": "text/x-python",
   "name": "python",
   "nbconvert_exporter": "python",
   "pygments_lexer": "ipython3",
   "version": "3.10.8"
  }
 },
 "nbformat": 4,
 "nbformat_minor": 1
}
