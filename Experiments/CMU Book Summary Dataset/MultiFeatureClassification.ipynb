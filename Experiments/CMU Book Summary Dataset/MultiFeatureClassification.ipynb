{
 "cells": [
  {
   "cell_type": "code",
   "execution_count": null,
   "metadata": {
    "id": "hVs7hnAWNzkA"
   },
   "outputs": [],
   "source": [
    "import pandas as pd"
   ]
  },
  {
   "cell_type": "code",
   "execution_count": null,
   "metadata": {
    "id": "GRZNZ2avOF4g"
   },
   "outputs": [],
   "source": [
    "df=pd.read_csv('/content/augmentedDataWithoutStemming.csv')"
   ]
  },
  {
   "cell_type": "code",
   "execution_count": null,
   "metadata": {
    "colab": {
     "base_uri": "https://localhost:8080/",
     "height": 424
    },
    "id": "Wf5zRZEQOKos",
    "outputId": "3140094e-f689-4484-d7e0-8fd5faae81c2"
   },
   "outputs": [
    {
     "data": {
      "text/html": [
       "\n",
       "  <div id=\"df-6e44c1a5-9122-4018-a135-e33a34749c6d\">\n",
       "    <div class=\"colab-df-container\">\n",
       "      <div>\n",
       "<style scoped>\n",
       "    .dataframe tbody tr th:only-of-type {\n",
       "        vertical-align: middle;\n",
       "    }\n",
       "\n",
       "    .dataframe tbody tr th {\n",
       "        vertical-align: top;\n",
       "    }\n",
       "\n",
       "    .dataframe thead th {\n",
       "        text-align: right;\n",
       "    }\n",
       "</style>\n",
       "<table border=\"1\" class=\"dataframe\">\n",
       "  <thead>\n",
       "    <tr style=\"text-align: right;\">\n",
       "      <th></th>\n",
       "      <th>Unnamed: 0</th>\n",
       "      <th>Unnamed: 0.1</th>\n",
       "      <th>Name</th>\n",
       "      <th>Genres</th>\n",
       "      <th>Summary</th>\n",
       "    </tr>\n",
       "  </thead>\n",
       "  <tbody>\n",
       "    <tr>\n",
       "      <th>0</th>\n",
       "      <td>0</td>\n",
       "      <td>1</td>\n",
       "      <td>A Clockwork Orange</td>\n",
       "      <td>Science Fiction</td>\n",
       "      <td>alex teenager living near future england lead...</td>\n",
       "    </tr>\n",
       "    <tr>\n",
       "      <th>1</th>\n",
       "      <td>1</td>\n",
       "      <td>6</td>\n",
       "      <td>A Wizard of Earthsea</td>\n",
       "      <td>Children's literature</td>\n",
       "      <td>ged young boy gont one larger islands north a...</td>\n",
       "    </tr>\n",
       "    <tr>\n",
       "      <th>2</th>\n",
       "      <td>2</td>\n",
       "      <td>8</td>\n",
       "      <td>Blade Runner 3: Replicant Night</td>\n",
       "      <td>Science Fiction</td>\n",
       "      <td>living mars deckard acting consultant movie c...</td>\n",
       "    </tr>\n",
       "    <tr>\n",
       "      <th>3</th>\n",
       "      <td>3</td>\n",
       "      <td>9</td>\n",
       "      <td>Blade Runner 2: The Edge of Human</td>\n",
       "      <td>Science Fiction</td>\n",
       "      <td>beginning several months events blade runner ...</td>\n",
       "    </tr>\n",
       "    <tr>\n",
       "      <th>4</th>\n",
       "      <td>4</td>\n",
       "      <td>21</td>\n",
       "      <td>Children of Dune</td>\n",
       "      <td>Science Fiction</td>\n",
       "      <td>nine years emperor paul muad dib walked deser...</td>\n",
       "    </tr>\n",
       "    <tr>\n",
       "      <th>...</th>\n",
       "      <td>...</td>\n",
       "      <td>...</td>\n",
       "      <td>...</td>\n",
       "      <td>...</td>\n",
       "      <td>...</td>\n",
       "    </tr>\n",
       "    <tr>\n",
       "      <th>21864</th>\n",
       "      <td>21864</td>\n",
       "      <td>16414</td>\n",
       "      <td>Carver</td>\n",
       "      <td>Thriller</td>\n",
       "      <td>central character samuel carver ex assassin s...</td>\n",
       "    </tr>\n",
       "    <tr>\n",
       "      <th>21865</th>\n",
       "      <td>21865</td>\n",
       "      <td>16442</td>\n",
       "      <td>Rabies</td>\n",
       "      <td>Thriller</td>\n",
       "      <td>seth betimes 1980s height insensate war novel...</td>\n",
       "    </tr>\n",
       "    <tr>\n",
       "      <th>21866</th>\n",
       "      <td>21866</td>\n",
       "      <td>16542</td>\n",
       "      <td>The Bourne Imperative</td>\n",
       "      <td>Thriller</td>\n",
       "      <td>detailed background main character see jason ...</td>\n",
       "    </tr>\n",
       "    <tr>\n",
       "      <th>21867</th>\n",
       "      <td>21867</td>\n",
       "      <td>16551</td>\n",
       "      <td>Remote Control</td>\n",
       "      <td>Thriller</td>\n",
       "      <td>series follows character nick stone ex milita...</td>\n",
       "    </tr>\n",
       "    <tr>\n",
       "      <th>21868</th>\n",
       "      <td>21868</td>\n",
       "      <td>16555</td>\n",
       "      <td>Transfer of Power</td>\n",
       "      <td>Thriller</td>\n",
       "      <td>reader first base meets rapp covert operation...</td>\n",
       "    </tr>\n",
       "  </tbody>\n",
       "</table>\n",
       "<p>21869 rows × 5 columns</p>\n",
       "</div>\n",
       "      <button class=\"colab-df-convert\" onclick=\"convertToInteractive('df-6e44c1a5-9122-4018-a135-e33a34749c6d')\"\n",
       "              title=\"Convert this dataframe to an interactive table.\"\n",
       "              style=\"display:none;\">\n",
       "        \n",
       "  <svg xmlns=\"http://www.w3.org/2000/svg\" height=\"24px\"viewBox=\"0 0 24 24\"\n",
       "       width=\"24px\">\n",
       "    <path d=\"M0 0h24v24H0V0z\" fill=\"none\"/>\n",
       "    <path d=\"M18.56 5.44l.94 2.06.94-2.06 2.06-.94-2.06-.94-.94-2.06-.94 2.06-2.06.94zm-11 1L8.5 8.5l.94-2.06 2.06-.94-2.06-.94L8.5 2.5l-.94 2.06-2.06.94zm10 10l.94 2.06.94-2.06 2.06-.94-2.06-.94-.94-2.06-.94 2.06-2.06.94z\"/><path d=\"M17.41 7.96l-1.37-1.37c-.4-.4-.92-.59-1.43-.59-.52 0-1.04.2-1.43.59L10.3 9.45l-7.72 7.72c-.78.78-.78 2.05 0 2.83L4 21.41c.39.39.9.59 1.41.59.51 0 1.02-.2 1.41-.59l7.78-7.78 2.81-2.81c.8-.78.8-2.07 0-2.86zM5.41 20L4 18.59l7.72-7.72 1.47 1.35L5.41 20z\"/>\n",
       "  </svg>\n",
       "      </button>\n",
       "      \n",
       "  <style>\n",
       "    .colab-df-container {\n",
       "      display:flex;\n",
       "      flex-wrap:wrap;\n",
       "      gap: 12px;\n",
       "    }\n",
       "\n",
       "    .colab-df-convert {\n",
       "      background-color: #E8F0FE;\n",
       "      border: none;\n",
       "      border-radius: 50%;\n",
       "      cursor: pointer;\n",
       "      display: none;\n",
       "      fill: #1967D2;\n",
       "      height: 32px;\n",
       "      padding: 0 0 0 0;\n",
       "      width: 32px;\n",
       "    }\n",
       "\n",
       "    .colab-df-convert:hover {\n",
       "      background-color: #E2EBFA;\n",
       "      box-shadow: 0px 1px 2px rgba(60, 64, 67, 0.3), 0px 1px 3px 1px rgba(60, 64, 67, 0.15);\n",
       "      fill: #174EA6;\n",
       "    }\n",
       "\n",
       "    [theme=dark] .colab-df-convert {\n",
       "      background-color: #3B4455;\n",
       "      fill: #D2E3FC;\n",
       "    }\n",
       "\n",
       "    [theme=dark] .colab-df-convert:hover {\n",
       "      background-color: #434B5C;\n",
       "      box-shadow: 0px 1px 3px 1px rgba(0, 0, 0, 0.15);\n",
       "      filter: drop-shadow(0px 1px 2px rgba(0, 0, 0, 0.3));\n",
       "      fill: #FFFFFF;\n",
       "    }\n",
       "  </style>\n",
       "\n",
       "      <script>\n",
       "        const buttonEl =\n",
       "          document.querySelector('#df-6e44c1a5-9122-4018-a135-e33a34749c6d button.colab-df-convert');\n",
       "        buttonEl.style.display =\n",
       "          google.colab.kernel.accessAllowed ? 'block' : 'none';\n",
       "\n",
       "        async function convertToInteractive(key) {\n",
       "          const element = document.querySelector('#df-6e44c1a5-9122-4018-a135-e33a34749c6d');\n",
       "          const dataTable =\n",
       "            await google.colab.kernel.invokeFunction('convertToInteractive',\n",
       "                                                     [key], {});\n",
       "          if (!dataTable) return;\n",
       "\n",
       "          const docLinkHtml = 'Like what you see? Visit the ' +\n",
       "            '<a target=\"_blank\" href=https://colab.research.google.com/notebooks/data_table.ipynb>data table notebook</a>'\n",
       "            + ' to learn more about interactive tables.';\n",
       "          element.innerHTML = '';\n",
       "          dataTable['output_type'] = 'display_data';\n",
       "          await google.colab.output.renderOutput(dataTable, element);\n",
       "          const docLink = document.createElement('div');\n",
       "          docLink.innerHTML = docLinkHtml;\n",
       "          element.appendChild(docLink);\n",
       "        }\n",
       "      </script>\n",
       "    </div>\n",
       "  </div>\n",
       "  "
      ],
      "text/plain": [
       "       Unnamed: 0  Unnamed: 0.1                               Name  \\\n",
       "0               0             1                 A Clockwork Orange   \n",
       "1               1             6               A Wizard of Earthsea   \n",
       "2               2             8    Blade Runner 3: Replicant Night   \n",
       "3               3             9  Blade Runner 2: The Edge of Human   \n",
       "4               4            21                   Children of Dune   \n",
       "...           ...           ...                                ...   \n",
       "21864       21864         16414                             Carver   \n",
       "21865       21865         16442                             Rabies   \n",
       "21866       21866         16542              The Bourne Imperative   \n",
       "21867       21867         16551                     Remote Control   \n",
       "21868       21868         16555                  Transfer of Power   \n",
       "\n",
       "                      Genres  \\\n",
       "0            Science Fiction   \n",
       "1      Children's literature   \n",
       "2            Science Fiction   \n",
       "3            Science Fiction   \n",
       "4            Science Fiction   \n",
       "...                      ...   \n",
       "21864               Thriller   \n",
       "21865               Thriller   \n",
       "21866               Thriller   \n",
       "21867               Thriller   \n",
       "21868               Thriller   \n",
       "\n",
       "                                                 Summary  \n",
       "0       alex teenager living near future england lead...  \n",
       "1       ged young boy gont one larger islands north a...  \n",
       "2       living mars deckard acting consultant movie c...  \n",
       "3       beginning several months events blade runner ...  \n",
       "4       nine years emperor paul muad dib walked deser...  \n",
       "...                                                  ...  \n",
       "21864   central character samuel carver ex assassin s...  \n",
       "21865   seth betimes 1980s height insensate war novel...  \n",
       "21866   detailed background main character see jason ...  \n",
       "21867   series follows character nick stone ex milita...  \n",
       "21868   reader first base meets rapp covert operation...  \n",
       "\n",
       "[21869 rows x 5 columns]"
      ]
     },
     "execution_count": 5,
     "metadata": {},
     "output_type": "execute_result"
    }
   ],
   "source": [
    "df"
   ]
  },
  {
   "cell_type": "code",
   "execution_count": null,
   "metadata": {
    "colab": {
     "base_uri": "https://localhost:8080/"
    },
    "id": "z1NUXiZIOQS2",
    "outputId": "4a92f670-5de9-4124-c543-ab9721c4d719"
   },
   "outputs": [
    {
     "data": {
      "text/plain": [
       "((21869,), (21869,), (21869, 2), (21869,))"
      ]
     },
     "execution_count": 13,
     "metadata": {},
     "output_type": "execute_result"
    }
   ],
   "source": [
    "XS=df.Summary\n",
    "XN=df.Name\n",
    "XNS=df[['Name', 'Summary']]\n",
    "Y=df.Genres.values\n",
    "XS.shape, XN.shape, XNS.shape, Y.shape"
   ]
  },
  {
   "cell_type": "code",
   "execution_count": null,
   "metadata": {
    "id": "3D07mZExTabo"
   },
   "outputs": [],
   "source": [
    "from sklearn.model_selection import train_test_split\n",
    "from sklearn.metrics import accuracy_score, confusion_matrix\n",
    "from sklearn.pipeline import Pipeline\n",
    "from sklearn.feature_extraction.text import CountVectorizer, TfidfVectorizer\n",
    "from sklearn.feature_extraction.text import TfidfTransformer\n",
    "from sklearn.metrics import classification_report"
   ]
  },
  {
   "cell_type": "code",
   "execution_count": null,
   "metadata": {
    "id": "H8yFg3WdTL6p"
   },
   "outputs": [],
   "source": [
    "XS_train, XS_test, YS_train, YS_test = train_test_split(XS, Y, test_size=0.3, random_state = 42)\n",
    "XN_train, XN_test, YN_train, YN_test = train_test_split(XN, Y, test_size=0.3, random_state = 42)\n",
    "XNS_train, XNS_test, YNS_train, YNS_test = train_test_split(XNS, Y, test_size=0.3, random_state = 42)"
   ]
  },
  {
   "cell_type": "markdown",
   "metadata": {
    "id": "P4IDShmoT23F"
   },
   "source": [
    "# SGD Classfier:"
   ]
  },
  {
   "cell_type": "code",
   "execution_count": null,
   "metadata": {
    "id": "Njy06QDQTz8s"
   },
   "outputs": [],
   "source": [
    "from sklearn.linear_model import SGDClassifier\n",
    "\n",
    "sgd = Pipeline([('vect', CountVectorizer(ngram_range=(1,3))),\n",
    "                ('tfidf', TfidfTransformer()),\n",
    "                ('clf', SGDClassifier(loss='hinge', penalty='l2',alpha=1e-3, random_state=42, max_iter=5, tol=None)),\n",
    "               ])"
   ]
  },
  {
   "cell_type": "code",
   "execution_count": null,
   "metadata": {
    "colab": {
     "base_uri": "https://localhost:8080/"
    },
    "id": "Kksds8unUD4Y",
    "outputId": "57e1fd5d-0d5e-49f6-edd8-e51469881d47"
   },
   "outputs": [
    {
     "data": {
      "text/plain": [
       "Pipeline(steps=[('vect', CountVectorizer(ngram_range=(1, 3))),\n",
       "                ('tfidf', TfidfTransformer()),\n",
       "                ('clf',\n",
       "                 SGDClassifier(alpha=0.001, max_iter=5, random_state=42,\n",
       "                               tol=None))])"
      ]
     },
     "execution_count": 17,
     "metadata": {},
     "output_type": "execute_result"
    }
   ],
   "source": [
    "sgd.fit(XS_train, YS_train)"
   ]
  },
  {
   "cell_type": "code",
   "execution_count": null,
   "metadata": {
    "id": "Op5ldSDsUIK6"
   },
   "outputs": [],
   "source": [
    "YS_pred = sgd.predict(XS_test)"
   ]
  },
  {
   "cell_type": "code",
   "execution_count": null,
   "metadata": {
    "colab": {
     "base_uri": "https://localhost:8080/"
    },
    "id": "8EuU3okfULXn",
    "outputId": "cbc0adf4-307c-483f-997b-25a29f0267e0"
   },
   "outputs": [
    {
     "name": "stdout",
     "output_type": "stream",
     "text": [
      "accuracy 0.8425544886450236\n",
      "                        precision    recall  f1-score   support\n",
      "\n",
      "       Adventure novel       0.95      1.00      0.97       211\n",
      "             Biography       0.89      1.00      0.94       112\n",
      " Children's literature       0.69      0.53      0.60       330\n",
      "               Fantasy       0.84      0.84      0.84       361\n",
      "                Horror       0.92      1.00      0.96       299\n",
      "      Literary fiction       0.98      1.00      0.99        85\n",
      "                Memoir       0.95      1.00      0.97       145\n",
      "               Mystery       0.79      0.87      0.83       452\n",
      "           Non-fiction       0.90      1.00      0.95       466\n",
      "                 Novel       0.58      0.09      0.16       296\n",
      "            Philosophy       0.91      0.99      0.95        74\n",
      "          Picture book       0.96      0.97      0.97       162\n",
      "         Romance novel       0.89      1.00      0.94       213\n",
      "       Science Fiction       0.77      0.75      0.76       283\n",
      "           Short story       0.96      1.00      0.98       107\n",
      "           Spy fiction       0.91      0.99      0.95       312\n",
      "     Sword and sorcery       0.91      1.00      0.95        63\n",
      "       Techno-thriller       0.94      1.00      0.97       131\n",
      "              Thriller       0.86      0.78      0.82       343\n",
      "         Urban fantasy       0.93      1.00      0.96        76\n",
      "Young adult literature       0.82      0.74      0.78       191\n",
      "         autobiography       0.84      1.00      0.91       443\n",
      "                comedy       0.91      1.00      0.95       473\n",
      "               fiction       0.64      0.51      0.57       512\n",
      "            historical       0.72      0.90      0.80       421\n",
      "\n",
      "              accuracy                           0.84      6561\n",
      "             macro avg       0.86      0.88      0.86      6561\n",
      "          weighted avg       0.83      0.84      0.82      6561\n",
      "\n"
     ]
    }
   ],
   "source": [
    "print('accuracy %s' % accuracy_score(YS_pred, YS_test))\n",
    "print(classification_report(YS_test, YS_pred))"
   ]
  },
  {
   "cell_type": "code",
   "execution_count": null,
   "metadata": {
    "colab": {
     "base_uri": "https://localhost:8080/"
    },
    "id": "vgaRUtNaUR32",
    "outputId": "50d62ca5-0b93-48e8-ce98-71cba3beeca2"
   },
   "outputs": [
    {
     "data": {
      "text/plain": [
       "0.8425544886450236"
      ]
     },
     "execution_count": 20,
     "metadata": {},
     "output_type": "execute_result"
    }
   ],
   "source": [
    "SGDsummary = accuracy_score(YS_pred, YS_test)\n",
    "SGDsummary"
   ]
  },
  {
   "cell_type": "code",
   "execution_count": null,
   "metadata": {
    "colab": {
     "base_uri": "https://localhost:8080/"
    },
    "id": "Eqf0OjGYUYUJ",
    "outputId": "c770b6f6-683a-4a36-c97e-8460322008b4"
   },
   "outputs": [
    {
     "data": {
      "text/plain": [
       "Pipeline(steps=[('vect', CountVectorizer(ngram_range=(1, 3))),\n",
       "                ('tfidf', TfidfTransformer()),\n",
       "                ('clf',\n",
       "                 SGDClassifier(alpha=0.001, max_iter=5, random_state=42,\n",
       "                               tol=None))])"
      ]
     },
     "execution_count": 21,
     "metadata": {},
     "output_type": "execute_result"
    }
   ],
   "source": [
    "sgd.fit(XN_train, YN_train)"
   ]
  },
  {
   "cell_type": "code",
   "execution_count": null,
   "metadata": {
    "id": "ujMpAqwRUbMf"
   },
   "outputs": [],
   "source": [
    "YN_pred = sgd.predict(XN_test)"
   ]
  },
  {
   "cell_type": "code",
   "execution_count": null,
   "metadata": {
    "colab": {
     "base_uri": "https://localhost:8080/"
    },
    "id": "NXPYMnm9Ud2S",
    "outputId": "de7cee12-b447-4168-d27b-a65963568276"
   },
   "outputs": [
    {
     "name": "stdout",
     "output_type": "stream",
     "text": [
      "accuracy 0.7215363511659808\n",
      "                        precision    recall  f1-score   support\n",
      "\n",
      "       Adventure novel       0.79      1.00      0.88       211\n",
      "             Biography       0.78      1.00      0.88       112\n",
      " Children's literature       0.40      0.10      0.16       330\n",
      "               Fantasy       0.77      0.71      0.74       361\n",
      "                Horror       0.79      0.99      0.88       299\n",
      "      Literary fiction       0.74      1.00      0.85        85\n",
      "                Memoir       0.83      1.00      0.91       145\n",
      "               Mystery       0.73      0.77      0.75       452\n",
      "           Non-fiction       0.71      1.00      0.83       466\n",
      "                 Novel       0.20      0.03      0.05       296\n",
      "            Philosophy       0.82      1.00      0.90        74\n",
      "          Picture book       0.76      1.00      0.86       162\n",
      "         Romance novel       0.80      1.00      0.89       213\n",
      "       Science Fiction       0.49      0.15      0.23       283\n",
      "           Short story       0.72      1.00      0.84       107\n",
      "           Spy fiction       0.69      1.00      0.82       312\n",
      "     Sword and sorcery       0.75      1.00      0.86        63\n",
      "       Techno-thriller       0.80      1.00      0.89       131\n",
      "              Thriller       0.79      0.66      0.72       343\n",
      "         Urban fantasy       0.77      0.92      0.84        76\n",
      "Young adult literature       0.73      0.65      0.69       191\n",
      "         autobiography       0.73      1.00      0.84       443\n",
      "                comedy       0.63      1.00      0.77       473\n",
      "               fiction       0.37      0.08      0.14       512\n",
      "            historical       0.78      0.69      0.73       421\n",
      "\n",
      "              accuracy                           0.72      6561\n",
      "             macro avg       0.69      0.79      0.72      6561\n",
      "          weighted avg       0.66      0.72      0.66      6561\n",
      "\n"
     ]
    }
   ],
   "source": [
    "print('accuracy %s' % accuracy_score(YN_pred, YN_test))\n",
    "print(classification_report(YN_test, YN_pred))"
   ]
  },
  {
   "cell_type": "code",
   "execution_count": null,
   "metadata": {
    "colab": {
     "base_uri": "https://localhost:8080/"
    },
    "id": "eDix5YrjUh94",
    "outputId": "c2a38c71-0e9f-4c9a-b72a-8306b871f360"
   },
   "outputs": [
    {
     "data": {
      "text/plain": [
       "0.7215363511659808"
      ]
     },
     "execution_count": 25,
     "metadata": {},
     "output_type": "execute_result"
    }
   ],
   "source": [
    "SGDname = accuracy_score(YN_pred, YN_test)\n",
    "SGDname"
   ]
  },
  {
   "cell_type": "code",
   "execution_count": null,
   "metadata": {
    "id": "hmVqzjFcUsMe"
   },
   "outputs": [],
   "source": [
    "combined = XNS_train[\"Name\"] + ' ' + XNS_train[\"Summary\"]"
   ]
  },
  {
   "cell_type": "code",
   "execution_count": null,
   "metadata": {
    "colab": {
     "base_uri": "https://localhost:8080/"
    },
    "id": "-5qKTCSgU6fd",
    "outputId": "d8b43fd7-2295-4743-ec02-fcd9563298de"
   },
   "outputs": [
    {
     "data": {
      "text/plain": [
       "Pipeline(steps=[('vect', CountVectorizer(ngram_range=(1, 3))),\n",
       "                ('tfidf', TfidfTransformer()),\n",
       "                ('clf',\n",
       "                 SGDClassifier(alpha=0.001, max_iter=5, random_state=42,\n",
       "                               tol=None))])"
      ]
     },
     "execution_count": 49,
     "metadata": {},
     "output_type": "execute_result"
    }
   ],
   "source": [
    "sgd.fit(combined, YNS_train)"
   ]
  },
  {
   "cell_type": "code",
   "execution_count": null,
   "metadata": {
    "id": "Vqzei9Jvdf5z"
   },
   "outputs": [],
   "source": [
    "combined_test = XNS_test[\"Name\"] + ' ' + XNS_test[\"Summary\"]"
   ]
  },
  {
   "cell_type": "code",
   "execution_count": null,
   "metadata": {
    "id": "p90ywr5dd7OY"
   },
   "outputs": [],
   "source": [
    "YNS_pred = sgd.predict(combined_test)"
   ]
  },
  {
   "cell_type": "code",
   "execution_count": null,
   "metadata": {
    "colab": {
     "base_uri": "https://localhost:8080/"
    },
    "id": "pQOl-Bp-eDy_",
    "outputId": "20a77f0e-6ece-4dca-9ec0-9e585778aa87"
   },
   "outputs": [
    {
     "name": "stdout",
     "output_type": "stream",
     "text": [
      "accuracy 0.8404206675811614\n",
      "                        precision    recall  f1-score   support\n",
      "\n",
      "       Adventure novel       0.94      1.00      0.97       211\n",
      "             Biography       0.87      1.00      0.93       112\n",
      " Children's literature       0.67      0.52      0.58       330\n",
      "               Fantasy       0.83      0.84      0.83       361\n",
      "                Horror       0.91      1.00      0.95       299\n",
      "      Literary fiction       0.98      1.00      0.99        85\n",
      "                Memoir       0.94      1.00      0.97       145\n",
      "               Mystery       0.79      0.88      0.83       452\n",
      "           Non-fiction       0.88      1.00      0.94       466\n",
      "                 Novel       0.61      0.09      0.16       296\n",
      "            Philosophy       0.91      0.99      0.95        74\n",
      "          Picture book       0.95      0.97      0.96       162\n",
      "         Romance novel       0.91      1.00      0.95       213\n",
      "       Science Fiction       0.79      0.75      0.77       283\n",
      "           Short story       0.95      1.00      0.97       107\n",
      "           Spy fiction       0.89      0.99      0.94       312\n",
      "     Sword and sorcery       0.91      1.00      0.95        63\n",
      "       Techno-thriller       0.92      1.00      0.96       131\n",
      "              Thriller       0.86      0.78      0.82       343\n",
      "         Urban fantasy       0.93      1.00      0.96        76\n",
      "Young adult literature       0.80      0.75      0.78       191\n",
      "         autobiography       0.85      1.00      0.92       443\n",
      "                comedy       0.91      1.00      0.95       473\n",
      "               fiction       0.65      0.49      0.56       512\n",
      "            historical       0.73      0.90      0.81       421\n",
      "\n",
      "              accuracy                           0.84      6561\n",
      "             macro avg       0.85      0.88      0.86      6561\n",
      "          weighted avg       0.83      0.84      0.82      6561\n",
      "\n"
     ]
    }
   ],
   "source": [
    "print('accuracy %s' % accuracy_score(YNS_pred, YNS_test))\n",
    "print(classification_report(YNS_test, YNS_pred))"
   ]
  },
  {
   "cell_type": "code",
   "execution_count": null,
   "metadata": {
    "colab": {
     "base_uri": "https://localhost:8080/"
    },
    "id": "i29tXHjIeNRB",
    "outputId": "eb3a2520-6f96-45fb-edb6-f41d2c0da453"
   },
   "outputs": [
    {
     "data": {
      "text/plain": [
       "0.8404206675811614"
      ]
     },
     "execution_count": 56,
     "metadata": {},
     "output_type": "execute_result"
    }
   ],
   "source": [
    "SGDNS = accuracy_score(YNS_pred, YNS_test)\n",
    "SGDNS"
   ]
  },
  {
   "cell_type": "markdown",
   "metadata": {
    "id": "txj6JXk7edjO"
   },
   "source": [
    "# Linear SVC Classifier:"
   ]
  },
  {
   "cell_type": "code",
   "execution_count": null,
   "metadata": {
    "id": "jr0Bq3xLecSb"
   },
   "outputs": [],
   "source": [
    "from sklearn.svm import LinearSVC\n",
    "\n",
    "linear_svc = Pipeline([('vect', CountVectorizer(ngram_range=(1,2))),\n",
    "                ('tfidf', TfidfTransformer()),\n",
    "                ('clf', LinearSVC(random_state=0, tol=1e-5)),\n",
    "               ])"
   ]
  },
  {
   "cell_type": "code",
   "execution_count": null,
   "metadata": {
    "colab": {
     "base_uri": "https://localhost:8080/"
    },
    "id": "fuNRhokqeul-",
    "outputId": "5f62b0ea-424c-470a-fc1c-430f952e9f69"
   },
   "outputs": [
    {
     "data": {
      "text/plain": [
       "Pipeline(steps=[('vect', CountVectorizer(ngram_range=(1, 2))),\n",
       "                ('tfidf', TfidfTransformer()),\n",
       "                ('clf', LinearSVC(random_state=0, tol=1e-05))])"
      ]
     },
     "execution_count": 58,
     "metadata": {},
     "output_type": "execute_result"
    }
   ],
   "source": [
    "linear_svc.fit(XS_train, YS_train)"
   ]
  },
  {
   "cell_type": "code",
   "execution_count": null,
   "metadata": {
    "id": "sZdXCRZvexbv"
   },
   "outputs": [],
   "source": [
    "YS_pred = linear_svc.predict(XS_test)"
   ]
  },
  {
   "cell_type": "code",
   "execution_count": null,
   "metadata": {
    "colab": {
     "base_uri": "https://localhost:8080/"
    },
    "id": "BoFTH11QfOI3",
    "outputId": "70fc9eb9-c06c-4782-d640-1b42fbefea67"
   },
   "outputs": [
    {
     "name": "stdout",
     "output_type": "stream",
     "text": [
      "accuracy 0.8745618046029568\n",
      "                        precision    recall  f1-score   support\n",
      "\n",
      "       Adventure novel       0.98      1.00      0.99       211\n",
      "             Biography       0.97      1.00      0.99       112\n",
      " Children's literature       0.68      0.66      0.67       330\n",
      "               Fantasy       0.86      0.90      0.88       361\n",
      "                Horror       0.99      1.00      0.99       299\n",
      "      Literary fiction       0.99      1.00      0.99        85\n",
      "                Memoir       0.99      1.00      0.99       145\n",
      "               Mystery       0.87      0.90      0.88       452\n",
      "           Non-fiction       0.96      1.00      0.98       466\n",
      "                 Novel       0.48      0.21      0.30       296\n",
      "            Philosophy       0.97      1.00      0.99        74\n",
      "          Picture book       0.99      0.99      0.99       162\n",
      "         Romance novel       0.99      1.00      0.99       213\n",
      "       Science Fiction       0.83      0.77      0.80       283\n",
      "           Short story       0.98      1.00      0.99       107\n",
      "           Spy fiction       0.99      1.00      1.00       312\n",
      "     Sword and sorcery       0.95      1.00      0.98        63\n",
      "       Techno-thriller       0.99      1.00      1.00       131\n",
      "              Thriller       0.86      0.81      0.83       343\n",
      "         Urban fantasy       1.00      1.00      1.00        76\n",
      "Young adult literature       0.83      0.77      0.80       191\n",
      "         autobiography       0.98      1.00      0.99       443\n",
      "                comedy       0.98      1.00      0.99       473\n",
      "               fiction       0.59      0.64      0.62       512\n",
      "            historical       0.76      0.91      0.83       421\n",
      "\n",
      "              accuracy                           0.87      6561\n",
      "             macro avg       0.90      0.90      0.90      6561\n",
      "          weighted avg       0.87      0.87      0.87      6561\n",
      "\n"
     ]
    }
   ],
   "source": [
    "print('accuracy %s' % accuracy_score(YS_pred, YS_test))\n",
    "print(classification_report(YS_test, YS_pred))"
   ]
  },
  {
   "cell_type": "code",
   "execution_count": null,
   "metadata": {
    "colab": {
     "base_uri": "https://localhost:8080/"
    },
    "id": "V8dKhub-e1u6",
    "outputId": "717f3450-cb66-4e62-c80e-600ddc64aaa9"
   },
   "outputs": [
    {
     "data": {
      "text/plain": [
       "0.8745618046029568"
      ]
     },
     "execution_count": 60,
     "metadata": {},
     "output_type": "execute_result"
    }
   ],
   "source": [
    "LSVCsummary = accuracy_score(YS_pred, YS_test)\n",
    "LSVCsummary"
   ]
  },
  {
   "cell_type": "code",
   "execution_count": null,
   "metadata": {
    "colab": {
     "base_uri": "https://localhost:8080/"
    },
    "id": "YTninXEve9qt",
    "outputId": "5acd73c7-462c-4544-b9bf-ab58b3e83d78"
   },
   "outputs": [
    {
     "data": {
      "text/plain": [
       "Pipeline(steps=[('vect', CountVectorizer(ngram_range=(1, 2))),\n",
       "                ('tfidf', TfidfTransformer()),\n",
       "                ('clf', LinearSVC(random_state=0, tol=1e-05))])"
      ]
     },
     "execution_count": 61,
     "metadata": {},
     "output_type": "execute_result"
    }
   ],
   "source": [
    "linear_svc.fit(XN_train, YN_train)"
   ]
  },
  {
   "cell_type": "code",
   "execution_count": null,
   "metadata": {
    "id": "vWeFol-TfIJH"
   },
   "outputs": [],
   "source": [
    "YN_pred = linear_svc.predict(XN_test)"
   ]
  },
  {
   "cell_type": "code",
   "execution_count": null,
   "metadata": {
    "colab": {
     "base_uri": "https://localhost:8080/"
    },
    "id": "YG_vXSd1fULb",
    "outputId": "af3d4b8d-15bb-474b-e4b7-43f77293800e"
   },
   "outputs": [
    {
     "name": "stdout",
     "output_type": "stream",
     "text": [
      "accuracy 0.7604023776863283\n",
      "                        precision    recall  f1-score   support\n",
      "\n",
      "       Adventure novel       0.94      1.00      0.97       211\n",
      "             Biography       0.93      1.00      0.96       112\n",
      " Children's literature       0.33      0.20      0.25       330\n",
      "               Fantasy       0.70      0.77      0.74       361\n",
      "                Horror       0.93      0.99      0.96       299\n",
      "      Literary fiction       0.87      1.00      0.93        85\n",
      "                Memoir       0.94      1.00      0.97       145\n",
      "               Mystery       0.70      0.80      0.75       452\n",
      "           Non-fiction       0.91      1.00      0.95       466\n",
      "                 Novel       0.23      0.07      0.11       296\n",
      "            Philosophy       0.94      1.00      0.97        74\n",
      "          Picture book       0.92      1.00      0.96       162\n",
      "         Romance novel       0.93      1.00      0.96       213\n",
      "       Science Fiction       0.38      0.19      0.25       283\n",
      "           Short story       0.89      1.00      0.94       107\n",
      "           Spy fiction       0.79      1.00      0.88       312\n",
      "     Sword and sorcery       0.91      1.00      0.95        63\n",
      "       Techno-thriller       0.92      1.00      0.96       131\n",
      "              Thriller       0.71      0.72      0.72       343\n",
      "         Urban fantasy       0.90      0.92      0.91        76\n",
      "Young adult literature       0.64      0.71      0.67       191\n",
      "         autobiography       0.87      1.00      0.93       443\n",
      "                comedy       0.93      0.99      0.96       473\n",
      "               fiction       0.31      0.29      0.30       512\n",
      "            historical       0.71      0.76      0.73       421\n",
      "\n",
      "              accuracy                           0.76      6561\n",
      "             macro avg       0.77      0.82      0.79      6561\n",
      "          weighted avg       0.72      0.76      0.73      6561\n",
      "\n"
     ]
    }
   ],
   "source": [
    "print('accuracy %s' % accuracy_score(YN_pred, YN_test))\n",
    "print(classification_report(YN_test, YN_pred))"
   ]
  },
  {
   "cell_type": "code",
   "execution_count": null,
   "metadata": {
    "colab": {
     "base_uri": "https://localhost:8080/"
    },
    "id": "OrZw1cKQfZGa",
    "outputId": "687fdf78-fb44-45dc-ffb6-ffb07857911c"
   },
   "outputs": [
    {
     "data": {
      "text/plain": [
       "0.7604023776863283"
      ]
     },
     "execution_count": 65,
     "metadata": {},
     "output_type": "execute_result"
    }
   ],
   "source": [
    "LSVCname = accuracy_score(YN_pred, YN_test)\n",
    "LSVCname"
   ]
  }
 ],
 "metadata": {
  "colab": {
   "provenance": []
  },
  "kernelspec": {
   "display_name": "Python 3 (ipykernel)",
   "language": "python",
   "name": "python3"
  },
  "language_info": {
   "codemirror_mode": {
    "name": "ipython",
    "version": 3
   },
   "file_extension": ".py",
   "mimetype": "text/x-python",
   "name": "python",
   "nbconvert_exporter": "python",
   "pygments_lexer": "ipython3",
   "version": "3.10.8"
  }
 },
 "nbformat": 4,
 "nbformat_minor": 1
}
