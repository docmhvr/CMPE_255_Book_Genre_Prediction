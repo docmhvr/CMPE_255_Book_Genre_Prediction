{
 "cells": [
  {
   "cell_type": "code",
   "execution_count": null,
   "metadata": {
    "id": "ZaTQa_0xyOJX"
   },
   "outputs": [],
   "source": [
    "from sklearn.model_selection import train_test_split\n",
    "from sklearn.metrics import accuracy_score, confusion_matrix\n",
    "from sklearn.model_selection import cross_val_score\n",
    "from sklearn.pipeline import Pipeline\n",
    "from sklearn.feature_extraction.text import CountVectorizer, TfidfVectorizer\n",
    "from sklearn.feature_extraction.text import TfidfTransformer\n",
    "from sklearn.metrics import classification_report\n",
    "import pandas as pd"
   ]
  },
  {
   "cell_type": "code",
   "execution_count": null,
   "metadata": {
    "id": "VhQyz-R7zFcZ"
   },
   "outputs": [],
   "source": [
    "df=pd.read_csv('/content/augmentedDataWithoutStemming.csv')"
   ]
  },
  {
   "cell_type": "code",
   "execution_count": null,
   "metadata": {
    "colab": {
     "base_uri": "https://localhost:8080/",
     "height": 424
    },
    "id": "r4ee-C5IzHMH",
    "outputId": "51054311-5a7e-4a33-d53d-64b6760f5bff"
   },
   "outputs": [
    {
     "data": {
      "text/html": [
       "\n",
       "  <div id=\"df-84dcd435-39a5-4427-be6b-fa8bfed4c0da\">\n",
       "    <div class=\"colab-df-container\">\n",
       "      <div>\n",
       "<style scoped>\n",
       "    .dataframe tbody tr th:only-of-type {\n",
       "        vertical-align: middle;\n",
       "    }\n",
       "\n",
       "    .dataframe tbody tr th {\n",
       "        vertical-align: top;\n",
       "    }\n",
       "\n",
       "    .dataframe thead th {\n",
       "        text-align: right;\n",
       "    }\n",
       "</style>\n",
       "<table border=\"1\" class=\"dataframe\">\n",
       "  <thead>\n",
       "    <tr style=\"text-align: right;\">\n",
       "      <th></th>\n",
       "      <th>Unnamed: 0</th>\n",
       "      <th>Unnamed: 0.1</th>\n",
       "      <th>Name</th>\n",
       "      <th>Genres</th>\n",
       "      <th>Summary</th>\n",
       "    </tr>\n",
       "  </thead>\n",
       "  <tbody>\n",
       "    <tr>\n",
       "      <th>0</th>\n",
       "      <td>0</td>\n",
       "      <td>1</td>\n",
       "      <td>A Clockwork Orange</td>\n",
       "      <td>Science Fiction</td>\n",
       "      <td>alex teenager living near future england lead...</td>\n",
       "    </tr>\n",
       "    <tr>\n",
       "      <th>1</th>\n",
       "      <td>1</td>\n",
       "      <td>6</td>\n",
       "      <td>A Wizard of Earthsea</td>\n",
       "      <td>Children's literature</td>\n",
       "      <td>ged young boy gont one larger islands north a...</td>\n",
       "    </tr>\n",
       "    <tr>\n",
       "      <th>2</th>\n",
       "      <td>2</td>\n",
       "      <td>8</td>\n",
       "      <td>Blade Runner 3: Replicant Night</td>\n",
       "      <td>Science Fiction</td>\n",
       "      <td>living mars deckard acting consultant movie c...</td>\n",
       "    </tr>\n",
       "    <tr>\n",
       "      <th>3</th>\n",
       "      <td>3</td>\n",
       "      <td>9</td>\n",
       "      <td>Blade Runner 2: The Edge of Human</td>\n",
       "      <td>Science Fiction</td>\n",
       "      <td>beginning several months events blade runner ...</td>\n",
       "    </tr>\n",
       "    <tr>\n",
       "      <th>4</th>\n",
       "      <td>4</td>\n",
       "      <td>21</td>\n",
       "      <td>Children of Dune</td>\n",
       "      <td>Science Fiction</td>\n",
       "      <td>nine years emperor paul muad dib walked deser...</td>\n",
       "    </tr>\n",
       "    <tr>\n",
       "      <th>...</th>\n",
       "      <td>...</td>\n",
       "      <td>...</td>\n",
       "      <td>...</td>\n",
       "      <td>...</td>\n",
       "      <td>...</td>\n",
       "    </tr>\n",
       "    <tr>\n",
       "      <th>21864</th>\n",
       "      <td>21864</td>\n",
       "      <td>16414</td>\n",
       "      <td>Carver</td>\n",
       "      <td>Thriller</td>\n",
       "      <td>central character samuel carver ex assassin s...</td>\n",
       "    </tr>\n",
       "    <tr>\n",
       "      <th>21865</th>\n",
       "      <td>21865</td>\n",
       "      <td>16442</td>\n",
       "      <td>Rabies</td>\n",
       "      <td>Thriller</td>\n",
       "      <td>seth betimes 1980s height insensate war novel...</td>\n",
       "    </tr>\n",
       "    <tr>\n",
       "      <th>21866</th>\n",
       "      <td>21866</td>\n",
       "      <td>16542</td>\n",
       "      <td>The Bourne Imperative</td>\n",
       "      <td>Thriller</td>\n",
       "      <td>detailed background main character see jason ...</td>\n",
       "    </tr>\n",
       "    <tr>\n",
       "      <th>21867</th>\n",
       "      <td>21867</td>\n",
       "      <td>16551</td>\n",
       "      <td>Remote Control</td>\n",
       "      <td>Thriller</td>\n",
       "      <td>series follows character nick stone ex milita...</td>\n",
       "    </tr>\n",
       "    <tr>\n",
       "      <th>21868</th>\n",
       "      <td>21868</td>\n",
       "      <td>16555</td>\n",
       "      <td>Transfer of Power</td>\n",
       "      <td>Thriller</td>\n",
       "      <td>reader first base meets rapp covert operation...</td>\n",
       "    </tr>\n",
       "  </tbody>\n",
       "</table>\n",
       "<p>21869 rows × 5 columns</p>\n",
       "</div>\n",
       "      <button class=\"colab-df-convert\" onclick=\"convertToInteractive('df-84dcd435-39a5-4427-be6b-fa8bfed4c0da')\"\n",
       "              title=\"Convert this dataframe to an interactive table.\"\n",
       "              style=\"display:none;\">\n",
       "        \n",
       "  <svg xmlns=\"http://www.w3.org/2000/svg\" height=\"24px\"viewBox=\"0 0 24 24\"\n",
       "       width=\"24px\">\n",
       "    <path d=\"M0 0h24v24H0V0z\" fill=\"none\"/>\n",
       "    <path d=\"M18.56 5.44l.94 2.06.94-2.06 2.06-.94-2.06-.94-.94-2.06-.94 2.06-2.06.94zm-11 1L8.5 8.5l.94-2.06 2.06-.94-2.06-.94L8.5 2.5l-.94 2.06-2.06.94zm10 10l.94 2.06.94-2.06 2.06-.94-2.06-.94-.94-2.06-.94 2.06-2.06.94z\"/><path d=\"M17.41 7.96l-1.37-1.37c-.4-.4-.92-.59-1.43-.59-.52 0-1.04.2-1.43.59L10.3 9.45l-7.72 7.72c-.78.78-.78 2.05 0 2.83L4 21.41c.39.39.9.59 1.41.59.51 0 1.02-.2 1.41-.59l7.78-7.78 2.81-2.81c.8-.78.8-2.07 0-2.86zM5.41 20L4 18.59l7.72-7.72 1.47 1.35L5.41 20z\"/>\n",
       "  </svg>\n",
       "      </button>\n",
       "      \n",
       "  <style>\n",
       "    .colab-df-container {\n",
       "      display:flex;\n",
       "      flex-wrap:wrap;\n",
       "      gap: 12px;\n",
       "    }\n",
       "\n",
       "    .colab-df-convert {\n",
       "      background-color: #E8F0FE;\n",
       "      border: none;\n",
       "      border-radius: 50%;\n",
       "      cursor: pointer;\n",
       "      display: none;\n",
       "      fill: #1967D2;\n",
       "      height: 32px;\n",
       "      padding: 0 0 0 0;\n",
       "      width: 32px;\n",
       "    }\n",
       "\n",
       "    .colab-df-convert:hover {\n",
       "      background-color: #E2EBFA;\n",
       "      box-shadow: 0px 1px 2px rgba(60, 64, 67, 0.3), 0px 1px 3px 1px rgba(60, 64, 67, 0.15);\n",
       "      fill: #174EA6;\n",
       "    }\n",
       "\n",
       "    [theme=dark] .colab-df-convert {\n",
       "      background-color: #3B4455;\n",
       "      fill: #D2E3FC;\n",
       "    }\n",
       "\n",
       "    [theme=dark] .colab-df-convert:hover {\n",
       "      background-color: #434B5C;\n",
       "      box-shadow: 0px 1px 3px 1px rgba(0, 0, 0, 0.15);\n",
       "      filter: drop-shadow(0px 1px 2px rgba(0, 0, 0, 0.3));\n",
       "      fill: #FFFFFF;\n",
       "    }\n",
       "  </style>\n",
       "\n",
       "      <script>\n",
       "        const buttonEl =\n",
       "          document.querySelector('#df-84dcd435-39a5-4427-be6b-fa8bfed4c0da button.colab-df-convert');\n",
       "        buttonEl.style.display =\n",
       "          google.colab.kernel.accessAllowed ? 'block' : 'none';\n",
       "\n",
       "        async function convertToInteractive(key) {\n",
       "          const element = document.querySelector('#df-84dcd435-39a5-4427-be6b-fa8bfed4c0da');\n",
       "          const dataTable =\n",
       "            await google.colab.kernel.invokeFunction('convertToInteractive',\n",
       "                                                     [key], {});\n",
       "          if (!dataTable) return;\n",
       "\n",
       "          const docLinkHtml = 'Like what you see? Visit the ' +\n",
       "            '<a target=\"_blank\" href=https://colab.research.google.com/notebooks/data_table.ipynb>data table notebook</a>'\n",
       "            + ' to learn more about interactive tables.';\n",
       "          element.innerHTML = '';\n",
       "          dataTable['output_type'] = 'display_data';\n",
       "          await google.colab.output.renderOutput(dataTable, element);\n",
       "          const docLink = document.createElement('div');\n",
       "          docLink.innerHTML = docLinkHtml;\n",
       "          element.appendChild(docLink);\n",
       "        }\n",
       "      </script>\n",
       "    </div>\n",
       "  </div>\n",
       "  "
      ],
      "text/plain": [
       "       Unnamed: 0  Unnamed: 0.1                               Name  \\\n",
       "0               0             1                 A Clockwork Orange   \n",
       "1               1             6               A Wizard of Earthsea   \n",
       "2               2             8    Blade Runner 3: Replicant Night   \n",
       "3               3             9  Blade Runner 2: The Edge of Human   \n",
       "4               4            21                   Children of Dune   \n",
       "...           ...           ...                                ...   \n",
       "21864       21864         16414                             Carver   \n",
       "21865       21865         16442                             Rabies   \n",
       "21866       21866         16542              The Bourne Imperative   \n",
       "21867       21867         16551                     Remote Control   \n",
       "21868       21868         16555                  Transfer of Power   \n",
       "\n",
       "                      Genres  \\\n",
       "0            Science Fiction   \n",
       "1      Children's literature   \n",
       "2            Science Fiction   \n",
       "3            Science Fiction   \n",
       "4            Science Fiction   \n",
       "...                      ...   \n",
       "21864               Thriller   \n",
       "21865               Thriller   \n",
       "21866               Thriller   \n",
       "21867               Thriller   \n",
       "21868               Thriller   \n",
       "\n",
       "                                                 Summary  \n",
       "0       alex teenager living near future england lead...  \n",
       "1       ged young boy gont one larger islands north a...  \n",
       "2       living mars deckard acting consultant movie c...  \n",
       "3       beginning several months events blade runner ...  \n",
       "4       nine years emperor paul muad dib walked deser...  \n",
       "...                                                  ...  \n",
       "21864   central character samuel carver ex assassin s...  \n",
       "21865   seth betimes 1980s height insensate war novel...  \n",
       "21866   detailed background main character see jason ...  \n",
       "21867   series follows character nick stone ex milita...  \n",
       "21868   reader first base meets rapp covert operation...  \n",
       "\n",
       "[21869 rows x 5 columns]"
      ]
     },
     "execution_count": 3,
     "metadata": {},
     "output_type": "execute_result"
    }
   ],
   "source": [
    "df"
   ]
  },
  {
   "cell_type": "code",
   "execution_count": null,
   "metadata": {
    "id": "FOYqRwqwzJl3"
   },
   "outputs": [],
   "source": [
    "X=df.Summary\n",
    "Y=df.Genres"
   ]
  },
  {
   "cell_type": "code",
   "execution_count": null,
   "metadata": {
    "id": "PBBrgs3kzm1U"
   },
   "outputs": [],
   "source": [
    "X_train, X_test, Y_train, Y_test = train_test_split(X, Y, test_size=0.3, random_state = 42)"
   ]
  },
  {
   "cell_type": "markdown",
   "metadata": {
    "id": "kdyG6zz40AJe"
   },
   "source": [
    "# SGD Classfier:"
   ]
  },
  {
   "cell_type": "code",
   "execution_count": null,
   "metadata": {
    "id": "ttXFmfe8zdFs"
   },
   "outputs": [],
   "source": [
    "from sklearn.linear_model import SGDClassifier\n",
    "clf = Pipeline([\n",
    "                ('vect', CountVectorizer()),\n",
    "                ('tfidf', TfidfTransformer()),\n",
    "                ('clf',SGDClassifier(loss='hinge', penalty='l2',alpha=1e-3, random_state=42, max_iter=5, tol=None)),\n",
    "               ])"
   ]
  },
  {
   "cell_type": "code",
   "execution_count": null,
   "metadata": {
    "colab": {
     "base_uri": "https://localhost:8080/"
    },
    "id": "e4CkAbC32J7I",
    "outputId": "929d6181-7c4d-4b43-9236-5bf2986ffb90"
   },
   "outputs": [
    {
     "name": "stdout",
     "output_type": "stream",
     "text": [
      "N-gram Range : (1,1)\n",
      "accuracy 0.8131382411217802\n",
      "                        precision    recall  f1-score   support\n",
      "\n",
      "       Adventure novel       0.94      0.99      0.96       211\n",
      "             Biography       0.82      1.00      0.90       112\n",
      " Children's literature       0.67      0.46      0.55       330\n",
      "               Fantasy       0.80      0.79      0.80       361\n",
      "                Horror       0.86      1.00      0.92       299\n",
      "      Literary fiction       0.89      1.00      0.94        85\n",
      "                Memoir       0.92      1.00      0.96       145\n",
      "               Mystery       0.74      0.83      0.78       452\n",
      "           Non-fiction       0.86      1.00      0.93       466\n",
      "                 Novel       0.36      0.09      0.15       296\n",
      "            Philosophy       0.89      0.96      0.92        74\n",
      "          Picture book       0.90      0.97      0.93       162\n",
      "         Romance novel       0.86      1.00      0.93       213\n",
      "       Science Fiction       0.79      0.72      0.76       283\n",
      "           Short story       0.91      1.00      0.96       107\n",
      "           Spy fiction       0.87      0.99      0.93       312\n",
      "     Sword and sorcery       0.89      1.00      0.94        63\n",
      "       Techno-thriller       0.90      1.00      0.95       131\n",
      "              Thriller       0.79      0.73      0.76       343\n",
      "         Urban fantasy       0.92      1.00      0.96        76\n",
      "Young adult literature       0.75      0.66      0.70       191\n",
      "         autobiography       0.83      0.98      0.90       443\n",
      "                comedy       0.89      1.00      0.94       473\n",
      "               fiction       0.63      0.42      0.50       512\n",
      "            historical       0.73      0.82      0.77       421\n",
      "\n",
      "              accuracy                           0.81      6561\n",
      "             macro avg       0.82      0.86      0.83      6561\n",
      "          weighted avg       0.79      0.81      0.79      6561\n",
      "\n"
     ]
    }
   ],
   "source": [
    "name = \"N-gram Range : (1,1)\"\n",
    "\n",
    "clf.fit(X_train, Y_train)\n",
    "score = clf.score(X_test, Y_test)\n",
    "\n",
    "print(name)\n",
    "y_pred = clf.predict(X_test)\n",
    "\n",
    "print('accuracy %s' % accuracy_score(y_pred, Y_test))\n",
    "print(classification_report(Y_test, y_pred))"
   ]
  },
  {
   "cell_type": "code",
   "execution_count": null,
   "metadata": {
    "id": "aouRq3Pq6oh9"
   },
   "outputs": [],
   "source": [
    "from sklearn.linear_model import SGDClassifier\n",
    "clf = Pipeline([\n",
    "                ('vect', CountVectorizer(ngram_range=(1,2))),\n",
    "                ('tfidf', TfidfTransformer()),\n",
    "                ('clf',SGDClassifier(loss='hinge', penalty='l2',alpha=1e-3, random_state=42, max_iter=5, tol=None)),\n",
    "               ])"
   ]
  },
  {
   "cell_type": "code",
   "execution_count": null,
   "metadata": {
    "colab": {
     "base_uri": "https://localhost:8080/"
    },
    "id": "BQlbRU3H6xQs",
    "outputId": "bfa47f59-eb15-4e84-cb1b-ab2668d6387d"
   },
   "outputs": [
    {
     "name": "stdout",
     "output_type": "stream",
     "text": [
      "N-gram Range : (1,2)\n",
      "accuracy 0.8367626886145405\n",
      "                        precision    recall  f1-score   support\n",
      "\n",
      "       Adventure novel       0.95      0.99      0.97       211\n",
      "             Biography       0.88      1.00      0.93       112\n",
      " Children's literature       0.69      0.51      0.58       330\n",
      "               Fantasy       0.83      0.83      0.83       361\n",
      "                Horror       0.90      1.00      0.95       299\n",
      "      Literary fiction       0.94      1.00      0.97        85\n",
      "                Memoir       0.94      1.00      0.97       145\n",
      "               Mystery       0.77      0.88      0.82       452\n",
      "           Non-fiction       0.89      1.00      0.94       466\n",
      "                 Novel       0.52      0.09      0.16       296\n",
      "            Philosophy       0.91      0.99      0.95        74\n",
      "          Picture book       0.95      0.97      0.96       162\n",
      "         Romance novel       0.89      1.00      0.94       213\n",
      "       Science Fiction       0.77      0.75      0.76       283\n",
      "           Short story       0.94      1.00      0.97       107\n",
      "           Spy fiction       0.89      0.99      0.94       312\n",
      "     Sword and sorcery       0.91      1.00      0.95        63\n",
      "       Techno-thriller       0.91      1.00      0.95       131\n",
      "              Thriller       0.85      0.78      0.81       343\n",
      "         Urban fantasy       0.93      1.00      0.96        76\n",
      "Young adult literature       0.81      0.72      0.76       191\n",
      "         autobiography       0.85      1.00      0.92       443\n",
      "                comedy       0.90      1.00      0.95       473\n",
      "               fiction       0.65      0.48      0.56       512\n",
      "            historical       0.73      0.88      0.80       421\n",
      "\n",
      "              accuracy                           0.84      6561\n",
      "             macro avg       0.85      0.87      0.85      6561\n",
      "          weighted avg       0.82      0.84      0.82      6561\n",
      "\n"
     ]
    }
   ],
   "source": [
    "name = \"N-gram Range : (1,2)\"\n",
    "\n",
    "clf.fit(X_train, Y_train)\n",
    "score = clf.score(X_test, Y_test)\n",
    "\n",
    "print(name)\n",
    "y_pred = clf.predict(X_test)\n",
    "\n",
    "print('accuracy %s' % accuracy_score(y_pred, Y_test))\n",
    "print(classification_report(Y_test, y_pred))"
   ]
  }
 ],
 "metadata": {
  "colab": {
   "provenance": []
  },
  "kernelspec": {
   "display_name": "Python 3 (ipykernel)",
   "language": "python",
   "name": "python3"
  },
  "language_info": {
   "codemirror_mode": {
    "name": "ipython",
    "version": 3
   },
   "file_extension": ".py",
   "mimetype": "text/x-python",
   "name": "python",
   "nbconvert_exporter": "python",
   "pygments_lexer": "ipython3",
   "version": "3.10.8"
  }
 },
 "nbformat": 4,
 "nbformat_minor": 1
}
