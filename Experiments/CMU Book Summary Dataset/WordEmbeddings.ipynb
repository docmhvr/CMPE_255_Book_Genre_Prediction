{
 "cells": [
  {
   "cell_type": "code",
   "execution_count": null,
   "metadata": {
    "id": "Y9DRoZUvjdUH"
   },
   "outputs": [],
   "source": [
    "import pandas as pd"
   ]
  },
  {
   "cell_type": "code",
   "execution_count": null,
   "metadata": {
    "id": "AQ30ep7fkD7J"
   },
   "outputs": [],
   "source": [
    "df=pd.read_csv('/content/augmentedDataWithoutStemming.csv')"
   ]
  },
  {
   "cell_type": "code",
   "execution_count": null,
   "metadata": {
    "colab": {
     "base_uri": "https://localhost:8080/",
     "height": 424
    },
    "id": "oZ1IeTgkkUCZ",
    "outputId": "09c950e7-ae50-4be9-8b4d-af1a7726f2e4"
   },
   "outputs": [
    {
     "data": {
      "text/html": [
       "\n",
       "  <div id=\"df-acfc98cd-2fb6-4a42-ad2b-3d6e1f5ae67e\">\n",
       "    <div class=\"colab-df-container\">\n",
       "      <div>\n",
       "<style scoped>\n",
       "    .dataframe tbody tr th:only-of-type {\n",
       "        vertical-align: middle;\n",
       "    }\n",
       "\n",
       "    .dataframe tbody tr th {\n",
       "        vertical-align: top;\n",
       "    }\n",
       "\n",
       "    .dataframe thead th {\n",
       "        text-align: right;\n",
       "    }\n",
       "</style>\n",
       "<table border=\"1\" class=\"dataframe\">\n",
       "  <thead>\n",
       "    <tr style=\"text-align: right;\">\n",
       "      <th></th>\n",
       "      <th>Unnamed: 0</th>\n",
       "      <th>Unnamed: 0.1</th>\n",
       "      <th>Name</th>\n",
       "      <th>Genres</th>\n",
       "      <th>Summary</th>\n",
       "    </tr>\n",
       "  </thead>\n",
       "  <tbody>\n",
       "    <tr>\n",
       "      <th>0</th>\n",
       "      <td>0</td>\n",
       "      <td>1</td>\n",
       "      <td>A Clockwork Orange</td>\n",
       "      <td>Science Fiction</td>\n",
       "      <td>alex teenager living near future england lead...</td>\n",
       "    </tr>\n",
       "    <tr>\n",
       "      <th>1</th>\n",
       "      <td>1</td>\n",
       "      <td>6</td>\n",
       "      <td>A Wizard of Earthsea</td>\n",
       "      <td>Children's literature</td>\n",
       "      <td>ged young boy gont one larger islands north a...</td>\n",
       "    </tr>\n",
       "    <tr>\n",
       "      <th>2</th>\n",
       "      <td>2</td>\n",
       "      <td>8</td>\n",
       "      <td>Blade Runner 3: Replicant Night</td>\n",
       "      <td>Science Fiction</td>\n",
       "      <td>living mars deckard acting consultant movie c...</td>\n",
       "    </tr>\n",
       "    <tr>\n",
       "      <th>3</th>\n",
       "      <td>3</td>\n",
       "      <td>9</td>\n",
       "      <td>Blade Runner 2: The Edge of Human</td>\n",
       "      <td>Science Fiction</td>\n",
       "      <td>beginning several months events blade runner ...</td>\n",
       "    </tr>\n",
       "    <tr>\n",
       "      <th>4</th>\n",
       "      <td>4</td>\n",
       "      <td>21</td>\n",
       "      <td>Children of Dune</td>\n",
       "      <td>Science Fiction</td>\n",
       "      <td>nine years emperor paul muad dib walked deser...</td>\n",
       "    </tr>\n",
       "    <tr>\n",
       "      <th>...</th>\n",
       "      <td>...</td>\n",
       "      <td>...</td>\n",
       "      <td>...</td>\n",
       "      <td>...</td>\n",
       "      <td>...</td>\n",
       "    </tr>\n",
       "    <tr>\n",
       "      <th>21864</th>\n",
       "      <td>21864</td>\n",
       "      <td>16414</td>\n",
       "      <td>Carver</td>\n",
       "      <td>Thriller</td>\n",
       "      <td>central character samuel carver ex assassin s...</td>\n",
       "    </tr>\n",
       "    <tr>\n",
       "      <th>21865</th>\n",
       "      <td>21865</td>\n",
       "      <td>16442</td>\n",
       "      <td>Rabies</td>\n",
       "      <td>Thriller</td>\n",
       "      <td>seth betimes 1980s height insensate war novel...</td>\n",
       "    </tr>\n",
       "    <tr>\n",
       "      <th>21866</th>\n",
       "      <td>21866</td>\n",
       "      <td>16542</td>\n",
       "      <td>The Bourne Imperative</td>\n",
       "      <td>Thriller</td>\n",
       "      <td>detailed background main character see jason ...</td>\n",
       "    </tr>\n",
       "    <tr>\n",
       "      <th>21867</th>\n",
       "      <td>21867</td>\n",
       "      <td>16551</td>\n",
       "      <td>Remote Control</td>\n",
       "      <td>Thriller</td>\n",
       "      <td>series follows character nick stone ex milita...</td>\n",
       "    </tr>\n",
       "    <tr>\n",
       "      <th>21868</th>\n",
       "      <td>21868</td>\n",
       "      <td>16555</td>\n",
       "      <td>Transfer of Power</td>\n",
       "      <td>Thriller</td>\n",
       "      <td>reader first base meets rapp covert operation...</td>\n",
       "    </tr>\n",
       "  </tbody>\n",
       "</table>\n",
       "<p>21869 rows × 5 columns</p>\n",
       "</div>\n",
       "      <button class=\"colab-df-convert\" onclick=\"convertToInteractive('df-acfc98cd-2fb6-4a42-ad2b-3d6e1f5ae67e')\"\n",
       "              title=\"Convert this dataframe to an interactive table.\"\n",
       "              style=\"display:none;\">\n",
       "        \n",
       "  <svg xmlns=\"http://www.w3.org/2000/svg\" height=\"24px\"viewBox=\"0 0 24 24\"\n",
       "       width=\"24px\">\n",
       "    <path d=\"M0 0h24v24H0V0z\" fill=\"none\"/>\n",
       "    <path d=\"M18.56 5.44l.94 2.06.94-2.06 2.06-.94-2.06-.94-.94-2.06-.94 2.06-2.06.94zm-11 1L8.5 8.5l.94-2.06 2.06-.94-2.06-.94L8.5 2.5l-.94 2.06-2.06.94zm10 10l.94 2.06.94-2.06 2.06-.94-2.06-.94-.94-2.06-.94 2.06-2.06.94z\"/><path d=\"M17.41 7.96l-1.37-1.37c-.4-.4-.92-.59-1.43-.59-.52 0-1.04.2-1.43.59L10.3 9.45l-7.72 7.72c-.78.78-.78 2.05 0 2.83L4 21.41c.39.39.9.59 1.41.59.51 0 1.02-.2 1.41-.59l7.78-7.78 2.81-2.81c.8-.78.8-2.07 0-2.86zM5.41 20L4 18.59l7.72-7.72 1.47 1.35L5.41 20z\"/>\n",
       "  </svg>\n",
       "      </button>\n",
       "      \n",
       "  <style>\n",
       "    .colab-df-container {\n",
       "      display:flex;\n",
       "      flex-wrap:wrap;\n",
       "      gap: 12px;\n",
       "    }\n",
       "\n",
       "    .colab-df-convert {\n",
       "      background-color: #E8F0FE;\n",
       "      border: none;\n",
       "      border-radius: 50%;\n",
       "      cursor: pointer;\n",
       "      display: none;\n",
       "      fill: #1967D2;\n",
       "      height: 32px;\n",
       "      padding: 0 0 0 0;\n",
       "      width: 32px;\n",
       "    }\n",
       "\n",
       "    .colab-df-convert:hover {\n",
       "      background-color: #E2EBFA;\n",
       "      box-shadow: 0px 1px 2px rgba(60, 64, 67, 0.3), 0px 1px 3px 1px rgba(60, 64, 67, 0.15);\n",
       "      fill: #174EA6;\n",
       "    }\n",
       "\n",
       "    [theme=dark] .colab-df-convert {\n",
       "      background-color: #3B4455;\n",
       "      fill: #D2E3FC;\n",
       "    }\n",
       "\n",
       "    [theme=dark] .colab-df-convert:hover {\n",
       "      background-color: #434B5C;\n",
       "      box-shadow: 0px 1px 3px 1px rgba(0, 0, 0, 0.15);\n",
       "      filter: drop-shadow(0px 1px 2px rgba(0, 0, 0, 0.3));\n",
       "      fill: #FFFFFF;\n",
       "    }\n",
       "  </style>\n",
       "\n",
       "      <script>\n",
       "        const buttonEl =\n",
       "          document.querySelector('#df-acfc98cd-2fb6-4a42-ad2b-3d6e1f5ae67e button.colab-df-convert');\n",
       "        buttonEl.style.display =\n",
       "          google.colab.kernel.accessAllowed ? 'block' : 'none';\n",
       "\n",
       "        async function convertToInteractive(key) {\n",
       "          const element = document.querySelector('#df-acfc98cd-2fb6-4a42-ad2b-3d6e1f5ae67e');\n",
       "          const dataTable =\n",
       "            await google.colab.kernel.invokeFunction('convertToInteractive',\n",
       "                                                     [key], {});\n",
       "          if (!dataTable) return;\n",
       "\n",
       "          const docLinkHtml = 'Like what you see? Visit the ' +\n",
       "            '<a target=\"_blank\" href=https://colab.research.google.com/notebooks/data_table.ipynb>data table notebook</a>'\n",
       "            + ' to learn more about interactive tables.';\n",
       "          element.innerHTML = '';\n",
       "          dataTable['output_type'] = 'display_data';\n",
       "          await google.colab.output.renderOutput(dataTable, element);\n",
       "          const docLink = document.createElement('div');\n",
       "          docLink.innerHTML = docLinkHtml;\n",
       "          element.appendChild(docLink);\n",
       "        }\n",
       "      </script>\n",
       "    </div>\n",
       "  </div>\n",
       "  "
      ],
      "text/plain": [
       "       Unnamed: 0  Unnamed: 0.1                               Name  \\\n",
       "0               0             1                 A Clockwork Orange   \n",
       "1               1             6               A Wizard of Earthsea   \n",
       "2               2             8    Blade Runner 3: Replicant Night   \n",
       "3               3             9  Blade Runner 2: The Edge of Human   \n",
       "4               4            21                   Children of Dune   \n",
       "...           ...           ...                                ...   \n",
       "21864       21864         16414                             Carver   \n",
       "21865       21865         16442                             Rabies   \n",
       "21866       21866         16542              The Bourne Imperative   \n",
       "21867       21867         16551                     Remote Control   \n",
       "21868       21868         16555                  Transfer of Power   \n",
       "\n",
       "                      Genres  \\\n",
       "0            Science Fiction   \n",
       "1      Children's literature   \n",
       "2            Science Fiction   \n",
       "3            Science Fiction   \n",
       "4            Science Fiction   \n",
       "...                      ...   \n",
       "21864               Thriller   \n",
       "21865               Thriller   \n",
       "21866               Thriller   \n",
       "21867               Thriller   \n",
       "21868               Thriller   \n",
       "\n",
       "                                                 Summary  \n",
       "0       alex teenager living near future england lead...  \n",
       "1       ged young boy gont one larger islands north a...  \n",
       "2       living mars deckard acting consultant movie c...  \n",
       "3       beginning several months events blade runner ...  \n",
       "4       nine years emperor paul muad dib walked deser...  \n",
       "...                                                  ...  \n",
       "21864   central character samuel carver ex assassin s...  \n",
       "21865   seth betimes 1980s height insensate war novel...  \n",
       "21866   detailed background main character see jason ...  \n",
       "21867   series follows character nick stone ex milita...  \n",
       "21868   reader first base meets rapp covert operation...  \n",
       "\n",
       "[21869 rows x 5 columns]"
      ]
     },
     "execution_count": 36,
     "metadata": {},
     "output_type": "execute_result"
    }
   ],
   "source": [
    "df"
   ]
  },
  {
   "cell_type": "code",
   "execution_count": null,
   "metadata": {
    "colab": {
     "base_uri": "https://localhost:8080/"
    },
    "id": "BL5oRUrMkVkA",
    "outputId": "d355cbdf-caf7-4734-b80c-f55d459e7f37"
   },
   "outputs": [
    {
     "data": {
      "text/plain": [
       "((21869,), (21869,))"
      ]
     },
     "execution_count": 37,
     "metadata": {},
     "output_type": "execute_result"
    }
   ],
   "source": [
    "X=df.Summary\n",
    "Y=df.Genres.values\n",
    "X.shape, Y.shape"
   ]
  },
  {
   "cell_type": "code",
   "execution_count": null,
   "metadata": {
    "id": "ALJFRCWTkZ1x"
   },
   "outputs": [],
   "source": [
    "from sklearn.model_selection import train_test_split\n",
    "from sklearn.metrics import accuracy_score, confusion_matrix\n",
    "from sklearn.pipeline import Pipeline\n",
    "from sklearn.feature_extraction.text import CountVectorizer, TfidfVectorizer, HashingVectorizer\n",
    "from gensim.models import word2vec\n",
    "from sklearn.feature_extraction.text import TfidfTransformer\n",
    "from sklearn.metrics import classification_report"
   ]
  },
  {
   "cell_type": "code",
   "execution_count": null,
   "metadata": {
    "id": "x7D2SIlTkriC"
   },
   "outputs": [],
   "source": [
    "X_train, X_test, Y_train, Y_test = train_test_split(X, Y, test_size=0.3, random_state = 42)"
   ]
  }
 ],
 "metadata": {
  "colab": {
   "collapsed_sections": [
    "glou67G8mgFQ",
    "hN3YTCseuxlw",
    "5uUN7AKPu1Ky",
    "532-WxvevYnB"
   ],
   "provenance": []
  },
  "kernelspec": {
   "display_name": "Python 3 (ipykernel)",
   "language": "python",
   "name": "python3"
  },
  "language_info": {
   "codemirror_mode": {
    "name": "ipython",
    "version": 3
   },
   "file_extension": ".py",
   "mimetype": "text/x-python",
   "name": "python",
   "nbconvert_exporter": "python",
   "pygments_lexer": "ipython3",
   "version": "3.10.8"
  }
 },
 "nbformat": 4,
 "nbformat_minor": 1
}
